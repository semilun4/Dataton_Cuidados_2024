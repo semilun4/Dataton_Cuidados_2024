{
 "cells": [
  {
   "cell_type": "code",
   "execution_count": 2,
   "metadata": {},
   "outputs": [],
   "source": [
    "import pandas as pd\n",
    "import numpy as np\n",
    "\n",
    "# Datos\n",
    "from scipy import stats \n",
    "import copy\n",
    "import pingouin as pg\n",
    "\n",
    "# Análisis de Factores\n",
    "from sklearn.decomposition import FactorAnalysis\n",
    "\n",
    "# Visualizaciones\n",
    "import plotly.express as px\n",
    "import seaborn as sb\n",
    "\n",
    "pd.DataFrame.iteritems = pd.DataFrame.items"
   ]
  },
  {
   "cell_type": "code",
   "execution_count": 3,
   "metadata": {},
   "outputs": [
    {
     "data": {
      "text/html": [
       "<div>\n",
       "<style scoped>\n",
       "    .dataframe tbody tr th:only-of-type {\n",
       "        vertical-align: middle;\n",
       "    }\n",
       "\n",
       "    .dataframe tbody tr th {\n",
       "        vertical-align: top;\n",
       "    }\n",
       "\n",
       "    .dataframe thead th {\n",
       "        text-align: right;\n",
       "    }\n",
       "</style>\n",
       "<table border=\"1\" class=\"dataframe\">\n",
       "  <thead>\n",
       "    <tr style=\"text-align: right;\">\n",
       "      <th></th>\n",
       "      <th>Alcaldia</th>\n",
       "      <th>Poblacion_Total</th>\n",
       "      <th>Poblacion_Mayores_65</th>\n",
       "      <th>Mujeres_Ocupadas</th>\n",
       "      <th>Mujeres_Inactivas_Economicamente</th>\n",
       "      <th>Poblacion_Objetivo</th>\n",
       "      <th>Establecimientos_Mayores_65</th>\n",
       "      <th>Establecimientos_Cuidados_Directos</th>\n",
       "      <th>Establecimientos_Cuidados_Indirectos</th>\n",
       "      <th>Total_Establecimientos</th>\n",
       "      <th>Tasa_Demanda_Potencial_Mayores_65</th>\n",
       "      <th>Tasa_Demanda_Potencial_Mujeres_Ocupadas</th>\n",
       "      <th>Tasa_Demanda_Potencial_Mujeres_Inactivas</th>\n",
       "      <th>Tasa_Demanda_Potencial_Total</th>\n",
       "      <th>Total_Poblacion_Requiere_Cuidados</th>\n",
       "      <th>Total_Poblacion_Requiere_Cuidados_65</th>\n",
       "      <th>Poblacion_en_Probreza</th>\n",
       "      <th>Estacionamientos</th>\n",
       "      <th>Areas_verdes</th>\n",
       "    </tr>\n",
       "  </thead>\n",
       "  <tbody>\n",
       "    <tr>\n",
       "      <th>0</th>\n",
       "      <td>ALVARO OBREGÓN</td>\n",
       "      <td>759,137</td>\n",
       "      <td>83,813</td>\n",
       "      <td>190,87</td>\n",
       "      <td>150,46</td>\n",
       "      <td>227,217</td>\n",
       "      <td>16</td>\n",
       "      <td>75</td>\n",
       "      <td>444</td>\n",
       "      <td>519</td>\n",
       "      <td>5,238.31</td>\n",
       "      <td>367.76</td>\n",
       "      <td>289.90</td>\n",
       "      <td>437.80</td>\n",
       "      <td>29.9%</td>\n",
       "      <td>11.0%</td>\n",
       "      <td>37.7%</td>\n",
       "      <td>107</td>\n",
       "      <td>250</td>\n",
       "    </tr>\n",
       "    <tr>\n",
       "      <th>1</th>\n",
       "      <td>AZCAPOTZALCO</td>\n",
       "      <td>432,205</td>\n",
       "      <td>54,863</td>\n",
       "      <td>107,939</td>\n",
       "      <td>89,796</td>\n",
       "      <td>133,559</td>\n",
       "      <td>9</td>\n",
       "      <td>40</td>\n",
       "      <td>269</td>\n",
       "      <td>309</td>\n",
       "      <td>6,095.89</td>\n",
       "      <td>349.32</td>\n",
       "      <td>290.60</td>\n",
       "      <td>432.23</td>\n",
       "      <td>30.9%</td>\n",
       "      <td>12.7%</td>\n",
       "      <td>24.2%</td>\n",
       "      <td>67</td>\n",
       "      <td>111</td>\n",
       "    </tr>\n",
       "    <tr>\n",
       "      <th>2</th>\n",
       "      <td>BENITO JUÁREZ</td>\n",
       "      <td>434,153</td>\n",
       "      <td>61,593</td>\n",
       "      <td>132,702</td>\n",
       "      <td>76,285</td>\n",
       "      <td>120,537</td>\n",
       "      <td>21</td>\n",
       "      <td>77</td>\n",
       "      <td>246</td>\n",
       "      <td>323</td>\n",
       "      <td>2,933</td>\n",
       "      <td>410.84</td>\n",
       "      <td>236.18</td>\n",
       "      <td>373.18</td>\n",
       "      <td>27.8%</td>\n",
       "      <td>14.2%</td>\n",
       "      <td>7.9%</td>\n",
       "      <td>287</td>\n",
       "      <td>64</td>\n",
       "    </tr>\n",
       "    <tr>\n",
       "      <th>3</th>\n",
       "      <td>COYOACÁN</td>\n",
       "      <td>614,447</td>\n",
       "      <td>90,448</td>\n",
       "      <td>156,658</td>\n",
       "      <td>130,022</td>\n",
       "      <td>195,223</td>\n",
       "      <td>25</td>\n",
       "      <td>90</td>\n",
       "      <td>374</td>\n",
       "      <td>464</td>\n",
       "      <td>3,617.92</td>\n",
       "      <td>337.63</td>\n",
       "      <td>280.22</td>\n",
       "      <td>420.74</td>\n",
       "      <td>31.8%</td>\n",
       "      <td>14.7%</td>\n",
       "      <td>27.1%</td>\n",
       "      <td>109</td>\n",
       "      <td>153</td>\n",
       "    </tr>\n",
       "    <tr>\n",
       "      <th>4</th>\n",
       "      <td>CUAJIMALPA DE MORELOS</td>\n",
       "      <td>217,686</td>\n",
       "      <td>16,76</td>\n",
       "      <td>53,727</td>\n",
       "      <td>41,066</td>\n",
       "      <td>60,321</td>\n",
       "      <td>8</td>\n",
       "      <td>23</td>\n",
       "      <td>137</td>\n",
       "      <td>160</td>\n",
       "      <td>2,095</td>\n",
       "      <td>335.79</td>\n",
       "      <td>256.66</td>\n",
       "      <td>377.01</td>\n",
       "      <td>27.7%</td>\n",
       "      <td>7.7%</td>\n",
       "      <td>32.5%</td>\n",
       "      <td>36</td>\n",
       "      <td>43</td>\n",
       "    </tr>\n",
       "  </tbody>\n",
       "</table>\n",
       "</div>"
      ],
      "text/plain": [
       "                Alcaldia Poblacion_Total Poblacion_Mayores_65  \\\n",
       "0         ALVARO OBREGÓN         759,137               83,813   \n",
       "1           AZCAPOTZALCO         432,205               54,863   \n",
       "2          BENITO JUÁREZ         434,153               61,593   \n",
       "3               COYOACÁN         614,447               90,448   \n",
       "4  CUAJIMALPA DE MORELOS         217,686                16,76   \n",
       "\n",
       "  Mujeres_Ocupadas Mujeres_Inactivas_Economicamente Poblacion_Objetivo  \\\n",
       "0           190,87                           150,46            227,217   \n",
       "1          107,939                           89,796            133,559   \n",
       "2          132,702                           76,285            120,537   \n",
       "3          156,658                          130,022            195,223   \n",
       "4           53,727                           41,066             60,321   \n",
       "\n",
       "   Establecimientos_Mayores_65  Establecimientos_Cuidados_Directos  \\\n",
       "0                           16                                  75   \n",
       "1                            9                                  40   \n",
       "2                           21                                  77   \n",
       "3                           25                                  90   \n",
       "4                            8                                  23   \n",
       "\n",
       "  Establecimientos_Cuidados_Indirectos Total_Establecimientos  \\\n",
       "0                                  444                    519   \n",
       "1                                  269                    309   \n",
       "2                                  246                    323   \n",
       "3                                  374                    464   \n",
       "4                                  137                    160   \n",
       "\n",
       "  Tasa_Demanda_Potencial_Mayores_65  Tasa_Demanda_Potencial_Mujeres_Ocupadas  \\\n",
       "0                          5,238.31                                   367.76   \n",
       "1                          6,095.89                                   349.32   \n",
       "2                             2,933                                   410.84   \n",
       "3                          3,617.92                                   337.63   \n",
       "4                             2,095                                   335.79   \n",
       "\n",
       "   Tasa_Demanda_Potencial_Mujeres_Inactivas  Tasa_Demanda_Potencial_Total  \\\n",
       "0                                    289.90                        437.80   \n",
       "1                                    290.60                        432.23   \n",
       "2                                    236.18                        373.18   \n",
       "3                                    280.22                        420.74   \n",
       "4                                    256.66                        377.01   \n",
       "\n",
       "  Total_Poblacion_Requiere_Cuidados Total_Poblacion_Requiere_Cuidados_65  \\\n",
       "0                             29.9%                                11.0%   \n",
       "1                             30.9%                                12.7%   \n",
       "2                             27.8%                                14.2%   \n",
       "3                             31.8%                                14.7%   \n",
       "4                             27.7%                                 7.7%   \n",
       "\n",
       "  Poblacion_en_Probreza  Estacionamientos  Areas_verdes  \n",
       "0                 37.7%               107           250  \n",
       "1                 24.2%                67           111  \n",
       "2                  7.9%               287            64  \n",
       "3                 27.1%               109           153  \n",
       "4                 32.5%                36            43  "
      ]
     },
     "execution_count": 3,
     "metadata": {},
     "output_type": "execute_result"
    }
   ],
   "source": [
    "PATH = '/home/chay/CDMX/'\n",
    "datos  = pd.read_csv(PATH+'datos_delegaciones_cuidados.csv')\n",
    "datos.head()"
   ]
  },
  {
   "cell_type": "code",
   "execution_count": 4,
   "metadata": {},
   "outputs": [
    {
     "name": "stdout",
     "output_type": "stream",
     "text": [
      "<class 'pandas.core.frame.DataFrame'>\n",
      "RangeIndex: 16 entries, 0 to 15\n",
      "Data columns (total 19 columns):\n",
      " #   Column                                    Non-Null Count  Dtype  \n",
      "---  ------                                    --------------  -----  \n",
      " 0   Alcaldia                                  16 non-null     object \n",
      " 1   Poblacion_Total                           16 non-null     object \n",
      " 2   Poblacion_Mayores_65                      16 non-null     object \n",
      " 3   Mujeres_Ocupadas                          16 non-null     object \n",
      " 4   Mujeres_Inactivas_Economicamente          16 non-null     object \n",
      " 5   Poblacion_Objetivo                        16 non-null     object \n",
      " 6   Establecimientos_Mayores_65               16 non-null     int64  \n",
      " 7   Establecimientos_Cuidados_Directos        16 non-null     int64  \n",
      " 8   Establecimientos_Cuidados_Indirectos      16 non-null     object \n",
      " 9   Total_Establecimientos                    16 non-null     object \n",
      " 10  Tasa_Demanda_Potencial_Mayores_65         16 non-null     object \n",
      " 11  Tasa_Demanda_Potencial_Mujeres_Ocupadas   16 non-null     float64\n",
      " 12  Tasa_Demanda_Potencial_Mujeres_Inactivas  16 non-null     float64\n",
      " 13  Tasa_Demanda_Potencial_Total              16 non-null     float64\n",
      " 14  Total_Poblacion_Requiere_Cuidados         16 non-null     object \n",
      " 15  Total_Poblacion_Requiere_Cuidados_65      16 non-null     object \n",
      " 16  Poblacion_en_Probreza                     16 non-null     object \n",
      " 17  Estacionamientos                          16 non-null     int64  \n",
      " 18  Areas_verdes                              16 non-null     int64  \n",
      "dtypes: float64(3), int64(4), object(12)\n",
      "memory usage: 2.5+ KB\n"
     ]
    }
   ],
   "source": [
    "datos.info()"
   ]
  },
  {
   "cell_type": "code",
   "execution_count": 5,
   "metadata": {},
   "outputs": [],
   "source": [
    "# Limpiar las columnas y convertirlas a numéricas\n",
    "datos['Poblacion_Total'] = datos['Poblacion_Total'].str.replace(\",\", \"\").astype(float)\n",
    "datos['Poblacion_Mayores_65'] = datos['Poblacion_Mayores_65'].str.replace(\",\", \"\").astype(float)\n",
    "datos['Mujeres_Ocupadas'] = datos['Mujeres_Ocupadas'].str.replace(\",\", \"\").astype(float)\n",
    "datos['Mujeres_Inactivas_Economicamente'] = datos['Mujeres_Inactivas_Economicamente'].str.replace(\",\", \"\").astype(float)\n",
    "datos['Poblacion_Objetivo'] = datos['Poblacion_Objetivo'].str.replace(\",\", \"\").astype(float)\n",
    "datos['Establecimientos_Cuidados_Indirectos'] = datos['Establecimientos_Cuidados_Indirectos'].str.replace(\",\", \"\").astype(float)\n",
    "datos['Total_Establecimientos'] = datos['Total_Establecimientos'].str.replace(\",\", \"\").astype(float)\n",
    "datos['Tasa_Demanda_Potencial_Mayores_65'] = datos['Tasa_Demanda_Potencial_Mayores_65'].str.replace(\",\", \"\").astype(float)\n",
    "\n",
    "# Limpiar columnas con porcentajes y convertirlas a proporciones\n",
    "datos['Total_Poblacion_Requiere_Cuidados'] = datos['Total_Poblacion_Requiere_Cuidados'].str.replace(\"%\", \"\").astype(float) / 100\n",
    "datos['Total_Poblacion_Requiere_Cuidados_65'] = datos['Total_Poblacion_Requiere_Cuidados_65'].str.replace(\"%\", \"\").astype(float) / 100\n",
    "datos['Poblacion_en_Probreza'] = datos['Poblacion_en_Probreza'].str.replace(\"%\", \"\").astype(float) / 100\n"
   ]
  },
  {
   "cell_type": "code",
   "execution_count": 6,
   "metadata": {},
   "outputs": [
    {
     "data": {
      "text/html": [
       "<div>\n",
       "<style scoped>\n",
       "    .dataframe tbody tr th:only-of-type {\n",
       "        vertical-align: middle;\n",
       "    }\n",
       "\n",
       "    .dataframe tbody tr th {\n",
       "        vertical-align: top;\n",
       "    }\n",
       "\n",
       "    .dataframe thead th {\n",
       "        text-align: right;\n",
       "    }\n",
       "</style>\n",
       "<table border=\"1\" class=\"dataframe\">\n",
       "  <thead>\n",
       "    <tr style=\"text-align: right;\">\n",
       "      <th></th>\n",
       "      <th>Alcaldia</th>\n",
       "      <th>Poblacion_Total</th>\n",
       "      <th>Poblacion_Mayores_65</th>\n",
       "      <th>Mujeres_Ocupadas</th>\n",
       "      <th>Mujeres_Inactivas_Economicamente</th>\n",
       "      <th>Poblacion_Objetivo</th>\n",
       "      <th>Establecimientos_Mayores_65</th>\n",
       "      <th>Establecimientos_Cuidados_Directos</th>\n",
       "      <th>Establecimientos_Cuidados_Indirectos</th>\n",
       "      <th>Total_Establecimientos</th>\n",
       "      <th>Tasa_Demanda_Potencial_Mayores_65</th>\n",
       "      <th>Tasa_Demanda_Potencial_Mujeres_Ocupadas</th>\n",
       "      <th>Tasa_Demanda_Potencial_Mujeres_Inactivas</th>\n",
       "      <th>Tasa_Demanda_Potencial_Total</th>\n",
       "      <th>Total_Poblacion_Requiere_Cuidados</th>\n",
       "      <th>Total_Poblacion_Requiere_Cuidados_65</th>\n",
       "      <th>Poblacion_en_Probreza</th>\n",
       "      <th>Estacionamientos</th>\n",
       "      <th>Areas_verdes</th>\n",
       "    </tr>\n",
       "  </thead>\n",
       "  <tbody>\n",
       "    <tr>\n",
       "      <th>0</th>\n",
       "      <td>ALVARO OBREGÓN</td>\n",
       "      <td>759137.0</td>\n",
       "      <td>83813.0</td>\n",
       "      <td>19087.0</td>\n",
       "      <td>15046.0</td>\n",
       "      <td>227217.0</td>\n",
       "      <td>16</td>\n",
       "      <td>75</td>\n",
       "      <td>444.0</td>\n",
       "      <td>519.0</td>\n",
       "      <td>5238.31</td>\n",
       "      <td>367.76</td>\n",
       "      <td>289.90</td>\n",
       "      <td>437.80</td>\n",
       "      <td>0.299</td>\n",
       "      <td>0.110</td>\n",
       "      <td>0.377</td>\n",
       "      <td>107</td>\n",
       "      <td>250</td>\n",
       "    </tr>\n",
       "    <tr>\n",
       "      <th>1</th>\n",
       "      <td>AZCAPOTZALCO</td>\n",
       "      <td>432205.0</td>\n",
       "      <td>54863.0</td>\n",
       "      <td>107939.0</td>\n",
       "      <td>89796.0</td>\n",
       "      <td>133559.0</td>\n",
       "      <td>9</td>\n",
       "      <td>40</td>\n",
       "      <td>269.0</td>\n",
       "      <td>309.0</td>\n",
       "      <td>6095.89</td>\n",
       "      <td>349.32</td>\n",
       "      <td>290.60</td>\n",
       "      <td>432.23</td>\n",
       "      <td>0.309</td>\n",
       "      <td>0.127</td>\n",
       "      <td>0.242</td>\n",
       "      <td>67</td>\n",
       "      <td>111</td>\n",
       "    </tr>\n",
       "    <tr>\n",
       "      <th>2</th>\n",
       "      <td>BENITO JUÁREZ</td>\n",
       "      <td>434153.0</td>\n",
       "      <td>61593.0</td>\n",
       "      <td>132702.0</td>\n",
       "      <td>76285.0</td>\n",
       "      <td>120537.0</td>\n",
       "      <td>21</td>\n",
       "      <td>77</td>\n",
       "      <td>246.0</td>\n",
       "      <td>323.0</td>\n",
       "      <td>2933.00</td>\n",
       "      <td>410.84</td>\n",
       "      <td>236.18</td>\n",
       "      <td>373.18</td>\n",
       "      <td>0.278</td>\n",
       "      <td>0.142</td>\n",
       "      <td>0.079</td>\n",
       "      <td>287</td>\n",
       "      <td>64</td>\n",
       "    </tr>\n",
       "    <tr>\n",
       "      <th>3</th>\n",
       "      <td>COYOACÁN</td>\n",
       "      <td>614447.0</td>\n",
       "      <td>90448.0</td>\n",
       "      <td>156658.0</td>\n",
       "      <td>130022.0</td>\n",
       "      <td>195223.0</td>\n",
       "      <td>25</td>\n",
       "      <td>90</td>\n",
       "      <td>374.0</td>\n",
       "      <td>464.0</td>\n",
       "      <td>3617.92</td>\n",
       "      <td>337.63</td>\n",
       "      <td>280.22</td>\n",
       "      <td>420.74</td>\n",
       "      <td>0.318</td>\n",
       "      <td>0.147</td>\n",
       "      <td>0.271</td>\n",
       "      <td>109</td>\n",
       "      <td>153</td>\n",
       "    </tr>\n",
       "    <tr>\n",
       "      <th>4</th>\n",
       "      <td>CUAJIMALPA DE MORELOS</td>\n",
       "      <td>217686.0</td>\n",
       "      <td>1676.0</td>\n",
       "      <td>53727.0</td>\n",
       "      <td>41066.0</td>\n",
       "      <td>60321.0</td>\n",
       "      <td>8</td>\n",
       "      <td>23</td>\n",
       "      <td>137.0</td>\n",
       "      <td>160.0</td>\n",
       "      <td>2095.00</td>\n",
       "      <td>335.79</td>\n",
       "      <td>256.66</td>\n",
       "      <td>377.01</td>\n",
       "      <td>0.277</td>\n",
       "      <td>0.077</td>\n",
       "      <td>0.325</td>\n",
       "      <td>36</td>\n",
       "      <td>43</td>\n",
       "    </tr>\n",
       "  </tbody>\n",
       "</table>\n",
       "</div>"
      ],
      "text/plain": [
       "                Alcaldia  Poblacion_Total  Poblacion_Mayores_65  \\\n",
       "0         ALVARO OBREGÓN         759137.0               83813.0   \n",
       "1           AZCAPOTZALCO         432205.0               54863.0   \n",
       "2          BENITO JUÁREZ         434153.0               61593.0   \n",
       "3               COYOACÁN         614447.0               90448.0   \n",
       "4  CUAJIMALPA DE MORELOS         217686.0                1676.0   \n",
       "\n",
       "   Mujeres_Ocupadas  Mujeres_Inactivas_Economicamente  Poblacion_Objetivo  \\\n",
       "0           19087.0                           15046.0            227217.0   \n",
       "1          107939.0                           89796.0            133559.0   \n",
       "2          132702.0                           76285.0            120537.0   \n",
       "3          156658.0                          130022.0            195223.0   \n",
       "4           53727.0                           41066.0             60321.0   \n",
       "\n",
       "   Establecimientos_Mayores_65  Establecimientos_Cuidados_Directos  \\\n",
       "0                           16                                  75   \n",
       "1                            9                                  40   \n",
       "2                           21                                  77   \n",
       "3                           25                                  90   \n",
       "4                            8                                  23   \n",
       "\n",
       "   Establecimientos_Cuidados_Indirectos  Total_Establecimientos  \\\n",
       "0                                 444.0                   519.0   \n",
       "1                                 269.0                   309.0   \n",
       "2                                 246.0                   323.0   \n",
       "3                                 374.0                   464.0   \n",
       "4                                 137.0                   160.0   \n",
       "\n",
       "   Tasa_Demanda_Potencial_Mayores_65  Tasa_Demanda_Potencial_Mujeres_Ocupadas  \\\n",
       "0                            5238.31                                   367.76   \n",
       "1                            6095.89                                   349.32   \n",
       "2                            2933.00                                   410.84   \n",
       "3                            3617.92                                   337.63   \n",
       "4                            2095.00                                   335.79   \n",
       "\n",
       "   Tasa_Demanda_Potencial_Mujeres_Inactivas  Tasa_Demanda_Potencial_Total  \\\n",
       "0                                    289.90                        437.80   \n",
       "1                                    290.60                        432.23   \n",
       "2                                    236.18                        373.18   \n",
       "3                                    280.22                        420.74   \n",
       "4                                    256.66                        377.01   \n",
       "\n",
       "   Total_Poblacion_Requiere_Cuidados  Total_Poblacion_Requiere_Cuidados_65  \\\n",
       "0                              0.299                                 0.110   \n",
       "1                              0.309                                 0.127   \n",
       "2                              0.278                                 0.142   \n",
       "3                              0.318                                 0.147   \n",
       "4                              0.277                                 0.077   \n",
       "\n",
       "   Poblacion_en_Probreza  Estacionamientos  Areas_verdes  \n",
       "0                  0.377               107           250  \n",
       "1                  0.242                67           111  \n",
       "2                  0.079               287            64  \n",
       "3                  0.271               109           153  \n",
       "4                  0.325                36            43  "
      ]
     },
     "execution_count": 6,
     "metadata": {},
     "output_type": "execute_result"
    }
   ],
   "source": [
    "datos.head()"
   ]
  },
  {
   "cell_type": "markdown",
   "metadata": {},
   "source": [
    "# Funciones"
   ]
  },
  {
   "cell_type": "code",
   "execution_count": 93,
   "metadata": {},
   "outputs": [],
   "source": [
    "def plot_relations(df,dims,color):\n",
    "    fig = px.scatter_matrix(df,dimensions=dims,\n",
    "                       title='Diagrama de dispersión multiple',color=color)\n",
    "    fig.update_layout(\n",
    "        autosize=False,\n",
    "        width=800,\n",
    "        height=800\n",
    "    )\n",
    "    fig.show()"
   ]
  },
  {
   "cell_type": "code",
   "execution_count": 94,
   "metadata": {},
   "outputs": [],
   "source": [
    "# Función para graficar una matriz de correlaciones en un mapa de calor\n",
    "def plot_heatmap(Corr_mtx):\n",
    "    sb.set_theme(rc={'figure.figsize':(10,8)})\n",
    "    sb.heatmap(Corr_mtx, cmap=\"YlGnBu\", annot=False) "
   ]
  },
  {
   "cell_type": "markdown",
   "metadata": {},
   "source": [
    "# EDA"
   ]
  },
  {
   "cell_type": "code",
   "execution_count": 19,
   "metadata": {},
   "outputs": [
    {
     "name": "stdout",
     "output_type": "stream",
     "text": [
      "<class 'pandas.core.frame.DataFrame'>\n",
      "RangeIndex: 16 entries, 0 to 15\n",
      "Data columns (total 19 columns):\n",
      " #   Column                                    Non-Null Count  Dtype  \n",
      "---  ------                                    --------------  -----  \n",
      " 0   Alcaldia                                  16 non-null     object \n",
      " 1   Poblacion_Total                           16 non-null     float64\n",
      " 2   Poblacion_Mayores_65                      16 non-null     float64\n",
      " 3   Mujeres_Ocupadas                          16 non-null     float64\n",
      " 4   Mujeres_Inactivas_Economicamente          16 non-null     float64\n",
      " 5   Poblacion_Objetivo                        16 non-null     float64\n",
      " 6   Establecimientos_Mayores_65               16 non-null     int64  \n",
      " 7   Establecimientos_Cuidados_Directos        16 non-null     int64  \n",
      " 8   Establecimientos_Cuidados_Indirectos      16 non-null     float64\n",
      " 9   Total_Establecimientos                    16 non-null     float64\n",
      " 10  Tasa_Demanda_Potencial_Mayores_65         16 non-null     float64\n",
      " 11  Tasa_Demanda_Potencial_Mujeres_Ocupadas   16 non-null     float64\n",
      " 12  Tasa_Demanda_Potencial_Mujeres_Inactivas  16 non-null     float64\n",
      " 13  Tasa_Demanda_Potencial_Total              16 non-null     float64\n",
      " 14  Total_Poblacion_Requiere_Cuidados         16 non-null     float64\n",
      " 15  Total_Poblacion_Requiere_Cuidados_65      16 non-null     float64\n",
      " 16  Poblacion_en_Probreza                     16 non-null     float64\n",
      " 17  Estacionamientos                          16 non-null     int64  \n",
      " 18  Areas_verdes                              16 non-null     int64  \n",
      "dtypes: float64(14), int64(4), object(1)\n",
      "memory usage: 2.5+ KB\n"
     ]
    }
   ],
   "source": [
    "datos.info()"
   ]
  },
  {
   "cell_type": "code",
   "execution_count": 16,
   "metadata": {},
   "outputs": [
    {
     "data": {
      "text/html": [
       "<div>\n",
       "<style scoped>\n",
       "    .dataframe tbody tr th:only-of-type {\n",
       "        vertical-align: middle;\n",
       "    }\n",
       "\n",
       "    .dataframe tbody tr th {\n",
       "        vertical-align: top;\n",
       "    }\n",
       "\n",
       "    .dataframe thead th {\n",
       "        text-align: right;\n",
       "    }\n",
       "</style>\n",
       "<table border=\"1\" class=\"dataframe\">\n",
       "  <thead>\n",
       "    <tr style=\"text-align: right;\">\n",
       "      <th></th>\n",
       "      <th>Poblacion_Total</th>\n",
       "      <th>Poblacion_Mayores_65</th>\n",
       "      <th>Mujeres_Ocupadas</th>\n",
       "      <th>Mujeres_Inactivas_Economicamente</th>\n",
       "      <th>Poblacion_Objetivo</th>\n",
       "      <th>Establecimientos_Mayores_65</th>\n",
       "      <th>Establecimientos_Cuidados_Directos</th>\n",
       "      <th>Establecimientos_Cuidados_Indirectos</th>\n",
       "      <th>Total_Establecimientos</th>\n",
       "      <th>Tasa_Demanda_Potencial_Mayores_65</th>\n",
       "      <th>Tasa_Demanda_Potencial_Mujeres_Ocupadas</th>\n",
       "      <th>Tasa_Demanda_Potencial_Mujeres_Inactivas</th>\n",
       "      <th>Tasa_Demanda_Potencial_Total</th>\n",
       "      <th>Total_Poblacion_Requiere_Cuidados</th>\n",
       "      <th>Total_Poblacion_Requiere_Cuidados_65</th>\n",
       "      <th>Poblacion_en_Probreza</th>\n",
       "      <th>Estacionamientos</th>\n",
       "      <th>Areas_verdes</th>\n",
       "    </tr>\n",
       "  </thead>\n",
       "  <tbody>\n",
       "    <tr>\n",
       "      <th>count</th>\n",
       "      <td>16.00</td>\n",
       "      <td>16.00</td>\n",
       "      <td>16.00</td>\n",
       "      <td>16.00</td>\n",
       "      <td>16.00</td>\n",
       "      <td>16.00</td>\n",
       "      <td>16.00</td>\n",
       "      <td>16.00</td>\n",
       "      <td>16.00</td>\n",
       "      <td>16.00</td>\n",
       "      <td>16.00</td>\n",
       "      <td>16.00</td>\n",
       "      <td>16.00</td>\n",
       "      <td>16.00</td>\n",
       "      <td>16.00</td>\n",
       "      <td>16.00</td>\n",
       "      <td>16.00</td>\n",
       "      <td>16.00</td>\n",
       "    </tr>\n",
       "    <tr>\n",
       "      <th>mean</th>\n",
       "      <td>552307.56</td>\n",
       "      <td>62938.81</td>\n",
       "      <td>125141.56</td>\n",
       "      <td>97899.75</td>\n",
       "      <td>175032.06</td>\n",
       "      <td>14.31</td>\n",
       "      <td>62.44</td>\n",
       "      <td>350.75</td>\n",
       "      <td>411.19</td>\n",
       "      <td>4788.59</td>\n",
       "      <td>345.77</td>\n",
       "      <td>272.76</td>\n",
       "      <td>416.98</td>\n",
       "      <td>0.30</td>\n",
       "      <td>0.11</td>\n",
       "      <td>0.33</td>\n",
       "      <td>141.88</td>\n",
       "      <td>113.38</td>\n",
       "    </tr>\n",
       "    <tr>\n",
       "      <th>std</th>\n",
       "      <td>434042.42</td>\n",
       "      <td>44583.54</td>\n",
       "      <td>103679.79</td>\n",
       "      <td>95828.91</td>\n",
       "      <td>129470.92</td>\n",
       "      <td>8.35</td>\n",
       "      <td>30.94</td>\n",
       "      <td>259.55</td>\n",
       "      <td>288.74</td>\n",
       "      <td>2302.24</td>\n",
       "      <td>31.53</td>\n",
       "      <td>22.98</td>\n",
       "      <td>26.25</td>\n",
       "      <td>0.01</td>\n",
       "      <td>0.02</td>\n",
       "      <td>0.13</td>\n",
       "      <td>194.25</td>\n",
       "      <td>83.18</td>\n",
       "    </tr>\n",
       "    <tr>\n",
       "      <th>min</th>\n",
       "      <td>41447.00</td>\n",
       "      <td>1676.00</td>\n",
       "      <td>1009.00</td>\n",
       "      <td>7477.00</td>\n",
       "      <td>46756.00</td>\n",
       "      <td>3.00</td>\n",
       "      <td>20.00</td>\n",
       "      <td>94.00</td>\n",
       "      <td>114.00</td>\n",
       "      <td>2034.65</td>\n",
       "      <td>297.52</td>\n",
       "      <td>236.18</td>\n",
       "      <td>372.78</td>\n",
       "      <td>0.28</td>\n",
       "      <td>0.07</td>\n",
       "      <td>0.08</td>\n",
       "      <td>9.00</td>\n",
       "      <td>12.00</td>\n",
       "    </tr>\n",
       "    <tr>\n",
       "      <th>25%</th>\n",
       "      <td>356140.25</td>\n",
       "      <td>37920.50</td>\n",
       "      <td>57551.25</td>\n",
       "      <td>37796.75</td>\n",
       "      <td>117023.25</td>\n",
       "      <td>8.00</td>\n",
       "      <td>39.50</td>\n",
       "      <td>235.50</td>\n",
       "      <td>286.25</td>\n",
       "      <td>2923.80</td>\n",
       "      <td>330.58</td>\n",
       "      <td>253.88</td>\n",
       "      <td>409.55</td>\n",
       "      <td>0.29</td>\n",
       "      <td>0.09</td>\n",
       "      <td>0.25</td>\n",
       "      <td>38.25</td>\n",
       "      <td>58.00</td>\n",
       "    </tr>\n",
       "    <tr>\n",
       "      <th>50%</th>\n",
       "      <td>438165.50</td>\n",
       "      <td>54548.50</td>\n",
       "      <td>109781.50</td>\n",
       "      <td>85059.50</td>\n",
       "      <td>133116.00</td>\n",
       "      <td>11.50</td>\n",
       "      <td>57.50</td>\n",
       "      <td>262.50</td>\n",
       "      <td>319.00</td>\n",
       "      <td>4470.56</td>\n",
       "      <td>342.32</td>\n",
       "      <td>278.50</td>\n",
       "      <td>415.46</td>\n",
       "      <td>0.30</td>\n",
       "      <td>0.11</td>\n",
       "      <td>0.33</td>\n",
       "      <td>87.00</td>\n",
       "      <td>79.50</td>\n",
       "    </tr>\n",
       "    <tr>\n",
       "      <th>75%</th>\n",
       "      <td>635817.25</td>\n",
       "      <td>76495.25</td>\n",
       "      <td>156353.50</td>\n",
       "      <td>102194.00</td>\n",
       "      <td>198678.75</td>\n",
       "      <td>20.25</td>\n",
       "      <td>80.00</td>\n",
       "      <td>384.25</td>\n",
       "      <td>474.00</td>\n",
       "      <td>5881.77</td>\n",
       "      <td>355.04</td>\n",
       "      <td>286.47</td>\n",
       "      <td>433.62</td>\n",
       "      <td>0.31</td>\n",
       "      <td>0.12</td>\n",
       "      <td>0.42</td>\n",
       "      <td>125.75</td>\n",
       "      <td>159.50</td>\n",
       "    </tr>\n",
       "    <tr>\n",
       "      <th>max</th>\n",
       "      <td>1835486.00</td>\n",
       "      <td>174312.00</td>\n",
       "      <td>424408.00</td>\n",
       "      <td>374587.00</td>\n",
       "      <td>563155.00</td>\n",
       "      <td>30.00</td>\n",
       "      <td>132.00</td>\n",
       "      <td>1107.00</td>\n",
       "      <td>1239.00</td>\n",
       "      <td>9814.80</td>\n",
       "      <td>410.84</td>\n",
       "      <td>311.40</td>\n",
       "      <td>462.28</td>\n",
       "      <td>0.32</td>\n",
       "      <td>0.15</td>\n",
       "      <td>0.55</td>\n",
       "      <td>799.00</td>\n",
       "      <td>293.00</td>\n",
       "    </tr>\n",
       "  </tbody>\n",
       "</table>\n",
       "</div>"
      ],
      "text/plain": [
       "       Poblacion_Total  Poblacion_Mayores_65  Mujeres_Ocupadas  \\\n",
       "count            16.00                 16.00             16.00   \n",
       "mean         552307.56              62938.81         125141.56   \n",
       "std          434042.42              44583.54         103679.79   \n",
       "min           41447.00               1676.00           1009.00   \n",
       "25%          356140.25              37920.50          57551.25   \n",
       "50%          438165.50              54548.50         109781.50   \n",
       "75%          635817.25              76495.25         156353.50   \n",
       "max         1835486.00             174312.00         424408.00   \n",
       "\n",
       "       Mujeres_Inactivas_Economicamente  Poblacion_Objetivo  \\\n",
       "count                             16.00               16.00   \n",
       "mean                           97899.75           175032.06   \n",
       "std                            95828.91           129470.92   \n",
       "min                             7477.00            46756.00   \n",
       "25%                            37796.75           117023.25   \n",
       "50%                            85059.50           133116.00   \n",
       "75%                           102194.00           198678.75   \n",
       "max                           374587.00           563155.00   \n",
       "\n",
       "       Establecimientos_Mayores_65  Establecimientos_Cuidados_Directos  \\\n",
       "count                        16.00                               16.00   \n",
       "mean                         14.31                               62.44   \n",
       "std                           8.35                               30.94   \n",
       "min                           3.00                               20.00   \n",
       "25%                           8.00                               39.50   \n",
       "50%                          11.50                               57.50   \n",
       "75%                          20.25                               80.00   \n",
       "max                          30.00                              132.00   \n",
       "\n",
       "       Establecimientos_Cuidados_Indirectos  Total_Establecimientos  \\\n",
       "count                                 16.00                   16.00   \n",
       "mean                                 350.75                  411.19   \n",
       "std                                  259.55                  288.74   \n",
       "min                                   94.00                  114.00   \n",
       "25%                                  235.50                  286.25   \n",
       "50%                                  262.50                  319.00   \n",
       "75%                                  384.25                  474.00   \n",
       "max                                 1107.00                 1239.00   \n",
       "\n",
       "       Tasa_Demanda_Potencial_Mayores_65  \\\n",
       "count                              16.00   \n",
       "mean                             4788.59   \n",
       "std                              2302.24   \n",
       "min                              2034.65   \n",
       "25%                              2923.80   \n",
       "50%                              4470.56   \n",
       "75%                              5881.77   \n",
       "max                              9814.80   \n",
       "\n",
       "       Tasa_Demanda_Potencial_Mujeres_Ocupadas  \\\n",
       "count                                    16.00   \n",
       "mean                                    345.77   \n",
       "std                                      31.53   \n",
       "min                                     297.52   \n",
       "25%                                     330.58   \n",
       "50%                                     342.32   \n",
       "75%                                     355.04   \n",
       "max                                     410.84   \n",
       "\n",
       "       Tasa_Demanda_Potencial_Mujeres_Inactivas  Tasa_Demanda_Potencial_Total  \\\n",
       "count                                     16.00                         16.00   \n",
       "mean                                     272.76                        416.98   \n",
       "std                                       22.98                         26.25   \n",
       "min                                      236.18                        372.78   \n",
       "25%                                      253.88                        409.55   \n",
       "50%                                      278.50                        415.46   \n",
       "75%                                      286.47                        433.62   \n",
       "max                                      311.40                        462.28   \n",
       "\n",
       "       Total_Poblacion_Requiere_Cuidados  \\\n",
       "count                              16.00   \n",
       "mean                                0.30   \n",
       "std                                 0.01   \n",
       "min                                 0.28   \n",
       "25%                                 0.29   \n",
       "50%                                 0.30   \n",
       "75%                                 0.31   \n",
       "max                                 0.32   \n",
       "\n",
       "       Total_Poblacion_Requiere_Cuidados_65  Poblacion_en_Probreza  \\\n",
       "count                                 16.00                  16.00   \n",
       "mean                                   0.11                   0.33   \n",
       "std                                    0.02                   0.13   \n",
       "min                                    0.07                   0.08   \n",
       "25%                                    0.09                   0.25   \n",
       "50%                                    0.11                   0.33   \n",
       "75%                                    0.12                   0.42   \n",
       "max                                    0.15                   0.55   \n",
       "\n",
       "       Estacionamientos  Areas_verdes  \n",
       "count             16.00         16.00  \n",
       "mean             141.88        113.38  \n",
       "std              194.25         83.18  \n",
       "min                9.00         12.00  \n",
       "25%               38.25         58.00  \n",
       "50%               87.00         79.50  \n",
       "75%              125.75        159.50  \n",
       "max              799.00        293.00  "
      ]
     },
     "execution_count": 16,
     "metadata": {},
     "output_type": "execute_result"
    }
   ],
   "source": [
    "# Se calculan esstadísticos relevantes\n",
    "np.round(datos.describe(),2)"
   ]
  },
  {
   "cell_type": "code",
   "execution_count": 36,
   "metadata": {},
   "outputs": [],
   "source": [
    "datos_z = copy.deepcopy(datos[datos.columns[1:]])\n",
    "datos_z = stats.zscore(datos_z)\n",
    "# Se corrige el índice de los datos\n",
    "datos_z = datos_z.reset_index(drop=True)"
   ]
  },
  {
   "cell_type": "code",
   "execution_count": 32,
   "metadata": {},
   "outputs": [
    {
     "data": {
      "image/png": "[encoded data removed]",
      "text/plain": [
       "<Figure size 1000x800 with 2 Axes>"
      ]
     },
     "metadata": {},
     "output_type": "display_data"
    }
   ],
   "source": [
    "plot_heatmap(datos_z.corr())"
   ]
  },
  {
   "cell_type": "code",
   "execution_count": 96,
   "metadata": {},
   "outputs": [
    {
     "data": {
      "application/vnd.plotly.v1+json": {
       "config": {
        "plotlyServerURL": "https://plot.ly"
       },
       "data": [
        {
         "dimensions": [
          {
           "axis": {
            "matches": true
           },
           "label": "Poblacion_Mayores_65",
           "values": [
            0.4835589343922546
           ]
          },
          {
           "axis": {
            "matches": true
           },
           "label": "Mujeres_Ocupadas",
           "values": [
            -1.0564515994488723
           ]
          },
          {
           "axis": {
            "matches": true
           },
           "label": "Mujeres_Inactivas_Economicamente",
           "values": [
            -0.892955883027327
           ]
          },
          {
           "axis": {
            "matches": true
           },
           "label": "Poblacion_Objetivo",
           "values": [
            0.4162816688646722
           ]
          }
         ],
         "hovertemplate": "color=ALVARO OBREGÓN<br>%{xaxis.title.text}=%{x}<br>%{yaxis.title.text}=%{y}<extra></extra>",
         "legendgroup": "ALVARO OBREGÓN",
         "marker": {
          "color": "#636efa",
          "symbol": "circle"
         },
         "name": "ALVARO OBREGÓN",
         "showlegend": true,
         "type": "splom"
        },
        {
         "dimensions": [
          {
           "axis": {
            "matches": true
           },
           "label": "Poblacion_Mayores_65",
           "values": [
            -0.1870794389890217
           ]
          },
          {
           "axis": {
            "matches": true
           },
           "label": "Mujeres_Ocupadas",
           "values": [
            -0.17136155427301106
           ]
          },
          {
           "axis": {
            "matches": true
           },
           "label": "Mujeres_Inactivas_Economicamente",
           "values": [
            -0.08733812575873393
           ]
          },
          {
           "axis": {
            "matches": true
           },
           "label": "Poblacion_Objetivo",
           "values": [
            -0.3308325447439475
           ]
          }
         ],
         "hovertemplate": "color=AZCAPOTZALCO<br>%{xaxis.title.text}=%{x}<br>%{yaxis.title.text}=%{y}<extra></extra>",
         "legendgroup": "AZCAPOTZALCO",
         "marker": {
          "color": "#EF553B",
          "symbol": "circle"
         },
         "name": "AZCAPOTZALCO",
         "showlegend": true,
         "type": "splom"
        },
        {
         "dimensions": [
          {
           "axis": {
            "matches": true
           },
           "label": "Poblacion_Mayores_65",
           "values": [
            -0.031176286904186147
           ]
          },
          {
           "axis": {
            "matches": true
           },
           "label": "Mujeres_Ocupadas",
           "values": [
            0.07531251934029932
           ]
          },
          {
           "axis": {
            "matches": true
           },
           "label": "Mujeres_Inactivas_Economicamente",
           "values": [
            -0.23295286179158958
           ]
          },
          {
           "axis": {
            "matches": true
           },
           "label": "Poblacion_Objetivo",
           "values": [
            -0.43470964322577976
           ]
          }
         ],
         "hovertemplate": "color=BENITO JUÁREZ<br>%{xaxis.title.text}=%{x}<br>%{yaxis.title.text}=%{y}<extra></extra>",
         "legendgroup": "BENITO JUÁREZ",
         "marker": {
          "color": "#00cc96",
          "symbol": "circle"
         },
         "name": "BENITO JUÁREZ",
         "showlegend": true,
         "type": "splom"
        },
        {
         "dimensions": [
          {
           "axis": {
            "matches": true
           },
           "label": "Poblacion_Mayores_65",
           "values": [
            0.6372613733347336
           ]
          },
          {
           "axis": {
            "matches": true
           },
           "label": "Mujeres_Ocupadas",
           "values": [
            0.3139477455843111
           ]
          },
          {
           "axis": {
            "matches": true
           },
           "label": "Mujeres_Inactivas_Economicamente",
           "values": [
            0.34619739135011457
           ]
          },
          {
           "axis": {
            "matches": true
           },
           "label": "Poblacion_Objetivo",
           "values": [
            0.16106404570173707
           ]
          }
         ],
         "hovertemplate": "color=COYOACÁN<br>%{xaxis.title.text}=%{x}<br>%{yaxis.title.text}=%{y}<extra></extra>",
         "legendgroup": "COYOACÁN",
         "marker": {
          "color": "#ab63fa",
          "symbol": "circle"
         },
         "name": "COYOACÁN",
         "showlegend": true,
         "type": "splom"
        },
        {
         "dimensions": [
          {
           "axis": {
            "matches": true
           },
           "label": "Poblacion_Mayores_65",
           "values": [
            -1.4191776484891925
           ]
          },
          {
           "axis": {
            "matches": true
           },
           "label": "Mujeres_Ocupadas",
           "values": [
            -0.7113888077852988
           ]
          },
          {
           "axis": {
            "matches": true
           },
           "label": "Mujeres_Inactivas_Economicamente",
           "values": [
            -0.612525461032293
           ]
          },
          {
           "axis": {
            "matches": true
           },
           "label": "Poblacion_Objetivo",
           "values": [
            -0.9150554704552385
           ]
          }
         ],
         "hovertemplate": "color=CUAJIMALPA DE MORELOS<br>%{xaxis.title.text}=%{x}<br>%{yaxis.title.text}=%{y}<extra></extra>",
         "legendgroup": "CUAJIMALPA DE MORELOS",
         "marker": {
          "color": "#FFA15A",
          "symbol": "circle"
         },
         "name": "CUAJIMALPA DE MORELOS",
         "showlegend": true,
         "type": "splom"
        },
        {
         "dimensions": [
          {
           "axis": {
            "matches": true
           },
           "label": "Poblacion_Mayores_65",
           "values": [
            0.03132396633873902
           ]
          },
          {
           "axis": {
            "matches": true
           },
           "label": "Mujeres_Ocupadas",
           "values": [
            0.3099034184071918
           ]
          },
          {
           "axis": {
            "matches": true
           },
           "label": "Mujeres_Inactivas_Economicamente",
           "values": [
            -0.053690786117362055
           ]
          },
          {
           "axis": {
            "matches": true
           },
           "label": "Poblacion_Objetivo",
           "values": [
            -0.1297072733553408
           ]
          }
         ],
         "hovertemplate": "color=CUAUHTÉMOC<br>%{xaxis.title.text}=%{x}<br>%{yaxis.title.text}=%{y}<extra></extra>",
         "legendgroup": "CUAUHTÉMOC",
         "marker": {
          "color": "#19d3f3",
          "symbol": "circle"
         },
         "name": "CUAUHTÉMOC",
         "showlegend": true,
         "type": "splom"
        },
        {
         "dimensions": [
          {
           "axis": {
            "matches": true
           },
           "label": "Poblacion_Mayores_65",
           "values": [
            1.8170057754483178
           ]
          },
          {
           "axis": {
            "matches": true
           },
           "label": "Mujeres_Ocupadas",
           "values": [
            1.432652472922243
           ]
          },
          {
           "axis": {
            "matches": true
           },
           "label": "Mujeres_Inactivas_Economicamente",
           "values": [
            1.6698138946735623
           ]
          },
          {
           "axis": {
            "matches": true
           },
           "label": "Poblacion_Objetivo",
           "values": [
            1.5984161319440522
           ]
          }
         ],
         "hovertemplate": "color=GUSTAVO A. MADERO<br>%{xaxis.title.text}=%{x}<br>%{yaxis.title.text}=%{y}<extra></extra>",
         "legendgroup": "GUSTAVO A. MADERO",
         "marker": {
          "color": "#FF6692",
          "symbol": "circle"
         },
         "name": "GUSTAVO A. MADERO",
         "showlegend": true,
         "type": "splom"
        },
        {
         "dimensions": [
          {
           "axis": {
            "matches": true
           },
           "label": "Poblacion_Mayores_65",
           "values": [
            -0.3211839482637785
           ]
          },
          {
           "axis": {
            "matches": true
           },
           "label": "Mujeres_Ocupadas",
           "values": [
            -1.2365337341975469
           ]
          },
          {
           "axis": {
            "matches": true
           },
           "label": "Mujeres_Inactivas_Economicamente",
           "values": [
            -0.9662428495748377
           ]
          },
          {
           "axis": {
            "matches": true
           },
           "label": "Poblacion_Objetivo",
           "values": [
            -0.3803301177803297
           ]
          }
         ],
         "hovertemplate": "color=IZTACALCO<br>%{xaxis.title.text}=%{x}<br>%{yaxis.title.text}=%{y}<extra></extra>",
         "legendgroup": "IZTACALCO",
         "marker": {
          "color": "#B6E880",
          "symbol": "circle"
         },
         "name": "IZTACALCO",
         "showlegend": true,
         "type": "splom"
        },
        {
         "dimensions": [
          {
           "axis": {
            "matches": true
           },
           "label": "Poblacion_Mayores_65",
           "values": [
            2.5800046046040723
           ]
          },
          {
           "axis": {
            "matches": true
           },
           "label": "Mujeres_Ocupadas",
           "values": [
            2.981111789115541
           ]
          },
          {
           "axis": {
            "matches": true
           },
           "label": "Mujeres_Inactivas_Economicamente",
           "values": [
            2.981995475716582
           ]
          },
          {
           "axis": {
            "matches": true
           },
           "label": "Poblacion_Objetivo",
           "values": [
            3.0960746891219113
           ]
          }
         ],
         "hovertemplate": "color=IZTAPALAPA<br>%{xaxis.title.text}=%{x}<br>%{yaxis.title.text}=%{y}<extra></extra>",
         "legendgroup": "IZTAPALAPA",
         "marker": {
          "color": "#FF97FF",
          "symbol": "circle"
         },
         "name": "IZTAPALAPA",
         "showlegend": true,
         "type": "splom"
        },
        {
         "dimensions": [
          {
           "axis": {
            "matches": true
           },
           "label": "Poblacion_Mayores_65",
           "values": [
            -0.8541735059410291
           ]
          },
          {
           "axis": {
            "matches": true
           },
           "label": "Mujeres_Ocupadas",
           "values": [
            -0.6605956445435966
           ]
          },
          {
           "axis": {
            "matches": true
           },
           "label": "Mujeres_Inactivas_Economicamente",
           "values": [
            -0.5068413442727502
           ]
          },
          {
           "axis": {
            "matches": true
           },
           "label": "Poblacion_Objetivo",
           "values": [
            -0.7871435311098092
           ]
          }
         ],
         "hovertemplate": "color=LA MAGDALENA CONTRERAS<br>%{xaxis.title.text}=%{x}<br>%{yaxis.title.text}=%{y}<extra></extra>",
         "legendgroup": "LA MAGDALENA CONTRERAS",
         "marker": {
          "color": "#FECB52",
          "symbol": "circle"
         },
         "name": "LA MAGDALENA CONTRERAS",
         "showlegend": true,
         "type": "splom"
        },
        {
         "dimensions": [
          {
           "axis": {
            "matches": true
           },
           "label": "Poblacion_Mayores_65",
           "values": [
            -0.29549351800195345
           ]
          },
          {
           "axis": {
            "matches": true
           },
           "label": "Mujeres_Ocupadas",
           "values": [
            -0.10689139296681452
           ]
          },
          {
           "axis": {
            "matches": true
           },
           "label": "Mujeres_Inactivas_Economicamente",
           "values": [
            -0.9745307432917548
           ]
          },
          {
           "axis": {
            "matches": true
           },
           "label": "Poblacion_Objetivo",
           "values": [
            -0.4595182575921212
           ]
          }
         ],
         "hovertemplate": "color=MIGUEL HIDALGO<br>%{xaxis.title.text}=%{x}<br>%{yaxis.title.text}=%{y}<extra></extra>",
         "legendgroup": "MIGUEL HIDALGO",
         "marker": {
          "color": "#636efa",
          "symbol": "circle"
         },
         "name": "MIGUEL HIDALGO",
         "showlegend": true,
         "type": "splom"
        },
        {
         "dimensions": [
          {
           "axis": {
            "matches": true
           },
           "label": "Poblacion_Mayores_65",
           "values": [
            -1.2091832839053835
           ]
          },
          {
           "axis": {
            "matches": true
           },
           "label": "Mujeres_Ocupadas",
           "values": [
            -0.8906441465839711
           ]
          },
          {
           "axis": {
            "matches": true
           },
           "label": "Mujeres_Inactivas_Economicamente",
           "values": [
            -0.7534627642002045
           ]
          },
          {
           "axis": {
            "matches": true
           },
           "label": "Poblacion_Objetivo",
           "values": [
            -1.0232641051431555
           ]
          }
         ],
         "hovertemplate": "color=MILPA ALTA<br>%{xaxis.title.text}=%{x}<br>%{yaxis.title.text}=%{y}<extra></extra>",
         "legendgroup": "MILPA ALTA",
         "marker": {
          "color": "#EF553B",
          "symbol": "circle"
         },
         "name": "MILPA ALTA",
         "showlegend": true,
         "type": "splom"
        },
        {
         "dimensions": [
          {
           "axis": {
            "matches": true
           },
           "label": "Poblacion_Mayores_65",
           "values": [
            -0.7722374808408711
           ]
          },
          {
           "axis": {
            "matches": true
           },
           "label": "Mujeres_Ocupadas",
           "values": [
            -0.3760284167880163
           ]
          },
          {
           "axis": {
            "matches": true
           },
           "label": "Mujeres_Inactivas_Economicamente",
           "values": [
            -0.1829776171032355
           ]
          },
          {
           "axis": {
            "matches": true
           },
           "label": "Poblacion_Objetivo",
           "values": [
            -0.4724011875604947
           ]
          }
         ],
         "hovertemplate": "color=TLÁHUAC<br>%{xaxis.title.text}=%{x}<br>%{yaxis.title.text}=%{y}<extra></extra>",
         "legendgroup": "TLÁHUAC",
         "marker": {
          "color": "#00cc96",
          "symbol": "circle"
         },
         "name": "TLÁHUAC",
         "showlegend": true,
         "type": "splom"
        },
        {
         "dimensions": [
          {
           "axis": {
            "matches": true
           },
           "label": "Poblacion_Mayores_65",
           "values": [
            0.2575341119714908
           ]
          },
          {
           "axis": {
            "matches": true
           },
           "label": "Mujeres_Ocupadas",
           "values": [
            0.47094932351183943
           ]
          },
          {
           "axis": {
            "matches": true
           },
           "label": "Mujeres_Inactivas_Economicamente",
           "values": [
            0.4512025259195848
           ]
          },
          {
           "axis": {
            "matches": true
           },
           "label": "Poblacion_Objetivo",
           "values": [
            0.27133075836602577
           ]
          }
         ],
         "hovertemplate": "color=TLALPAN<br>%{xaxis.title.text}=%{x}<br>%{yaxis.title.text}=%{y}<extra></extra>",
         "legendgroup": "TLALPAN",
         "marker": {
          "color": "#ab63fa",
          "symbol": "circle"
         },
         "name": "TLALPAN",
         "showlegend": true,
         "type": "splom"
        },
        {
         "dimensions": [
          {
           "axis": {
            "matches": true
           },
           "label": "Poblacion_Mayores_65",
           "values": [
            -0.20165047653157173
           ]
          },
          {
           "axis": {
            "matches": true
           },
           "label": "Mujeres_Ocupadas",
           "values": [
            -0.13465380637231045
           ]
          },
          {
           "axis": {
            "matches": true
           },
           "label": "Mujeres_Inactivas_Economicamente",
           "values": [
            -0.09379384531196318
           ]
          },
          {
           "axis": {
            "matches": true
           },
           "label": "Poblacion_Objetivo",
           "values": [
            -0.2723049551600738
           ]
          }
         ],
         "hovertemplate": "color=VENUSTIANO CARRANZA<br>%{xaxis.title.text}=%{x}<br>%{yaxis.title.text}=%{y}<extra></extra>",
         "legendgroup": "VENUSTIANO CARRANZA",
         "marker": {
          "color": "#FFA15A",
          "symbol": "circle"
         },
         "name": "VENUSTIANO CARRANZA",
         "showlegend": true,
         "type": "splom"
        },
        {
         "dimensions": [
          {
           "axis": {
            "matches": true
           },
           "label": "Poblacion_Mayores_65",
           "values": [
            -0.5153331782226205
           ]
          },
          {
           "axis": {
            "matches": true
           },
           "label": "Mujeres_Ocupadas",
           "values": [
            -0.23932816592198802
           ]
          },
          {
           "axis": {
            "matches": true
           },
           "label": "Mujeres_Inactivas_Economicamente",
           "values": [
            -0.09189700617779231
           ]
          },
          {
           "axis": {
            "matches": true
           },
           "label": "Poblacion_Objetivo",
           "values": [
            -0.33790020787210784
           ]
          }
         ],
         "hovertemplate": "color=XOCHIMILCO<br>%{xaxis.title.text}=%{x}<br>%{yaxis.title.text}=%{y}<extra></extra>",
         "legendgroup": "XOCHIMILCO",
         "marker": {
          "color": "#19d3f3",
          "symbol": "circle"
         },
         "name": "XOCHIMILCO",
         "showlegend": true,
         "type": "splom"
        }
       ],
       "layout": {
        "autosize": false,
        "dragmode": "select",
        "height": 800,
        "legend": {
         "title": {
          "text": "color"
         },
         "tracegroupgap": 0
        },
        "template": {
         "data": {
          "bar": [
           {
            "error_x": {
             "color": "#2a3f5f"
            },
            "error_y": {
             "color": "#2a3f5f"
            },
            "marker": {
             "line": {
              "color": "#E5ECF6",
              "width": 0.5
             },
             "pattern": {
              "fillmode": "overlay",
              "size": 10,
              "solidity": 0.2
             }
            },
            "type": "bar"
           }
          ],
          "barpolar": [
           {
            "marker": {
             "line": {
              "color": "#E5ECF6",
              "width": 0.5
             },
             "pattern": {
              "fillmode": "overlay",
              "size": 10,
              "solidity": 0.2
             }
            },
            "type": "barpolar"
           }
          ],
          "carpet": [
           {
            "aaxis": {
             "endlinecolor": "#2a3f5f",
             "gridcolor": "white",
             "linecolor": "white",
             "minorgridcolor": "white",
             "startlinecolor": "#2a3f5f"
            },
            "baxis": {
             "endlinecolor": "#2a3f5f",
             "gridcolor": "white",
             "linecolor": "white",
             "minorgridcolor": "white",
             "startlinecolor": "#2a3f5f"
            },
            "type": "carpet"
           }
          ],
          "choropleth": [
           {
            "colorbar": {
             "outlinewidth": 0,
             "ticks": ""
            },
            "type": "choropleth"
           }
          ],
          "contour": [
           {
            "colorbar": {
             "outlinewidth": 0,
             "ticks": ""
            },
            "colorscale": [
             [
              0,
              "#0d0887"
             ],
             [
              0.1111111111111111,
              "#46039f"
             ],
             [
              0.2222222222222222,
              "#7201a8"
             ],
             [
              0.3333333333333333,
              "#9c179e"
             ],
             [
              0.4444444444444444,
              "#bd3786"
             ],
             [
              0.5555555555555556,
              "#d8576b"
             ],
             [
              0.6666666666666666,
              "#ed7953"
             ],
             [
              0.7777777777777778,
              "#fb9f3a"
             ],
             [
              0.8888888888888888,
              "#fdca26"
             ],
             [
              1,
              "#f0f921"
             ]
            ],
            "type": "contour"
           }
          ],
          "contourcarpet": [
           {
            "colorbar": {
             "outlinewidth": 0,
             "ticks": ""
            },
            "type": "contourcarpet"
           }
          ],
          "heatmap": [
           {
            "colorbar": {
             "outlinewidth": 0,
             "ticks": ""
            },
            "colorscale": [
             [
              0,
              "#0d0887"
             ],
             [
              0.1111111111111111,
              "#46039f"
             ],
             [
              0.2222222222222222,
              "#7201a8"
             ],
             [
              0.3333333333333333,
              "#9c179e"
             ],
             [
              0.4444444444444444,
              "#bd3786"
             ],
             [
              0.5555555555555556,
              "#d8576b"
             ],
             [
              0.6666666666666666,
              "#ed7953"
             ],
             [
              0.7777777777777778,
              "#fb9f3a"
             ],
             [
              0.8888888888888888,
              "#fdca26"
             ],
             [
              1,
              "#f0f921"
             ]
            ],
            "type": "heatmap"
           }
          ],
          "heatmapgl": [
           {
            "colorbar": {
             "outlinewidth": 0,
             "ticks": ""
            },
            "colorscale": [
             [
              0,
              "#0d0887"
             ],
             [
              0.1111111111111111,
              "#46039f"
             ],
             [
              0.2222222222222222,
              "#7201a8"
             ],
             [
              0.3333333333333333,
              "#9c179e"
             ],
             [
              0.4444444444444444,
              "#bd3786"
             ],
             [
              0.5555555555555556,
              "#d8576b"
             ],
             [
              0.6666666666666666,
              "#ed7953"
             ],
             [
              0.7777777777777778,
              "#fb9f3a"
             ],
             [
              0.8888888888888888,
              "#fdca26"
             ],
             [
              1,
              "#f0f921"
             ]
            ],
            "type": "heatmapgl"
           }
          ],
          "histogram": [
           {
            "marker": {
             "pattern": {
              "fillmode": "overlay",
              "size": 10,
              "solidity": 0.2
             }
            },
            "type": "histogram"
           }
          ],
          "histogram2d": [
           {
            "colorbar": {
             "outlinewidth": 0,
             "ticks": ""
            },
            "colorscale": [
             [
              0,
              "#0d0887"
             ],
             [
              0.1111111111111111,
              "#46039f"
             ],
             [
              0.2222222222222222,
              "#7201a8"
             ],
             [
              0.3333333333333333,
              "#9c179e"
             ],
             [
              0.4444444444444444,
              "#bd3786"
             ],
             [
              0.5555555555555556,
              "#d8576b"
             ],
             [
              0.6666666666666666,
              "#ed7953"
             ],
             [
              0.7777777777777778,
              "#fb9f3a"
             ],
             [
              0.8888888888888888,
              "#fdca26"
             ],
             [
              1,
              "#f0f921"
             ]
            ],
            "type": "histogram2d"
           }
          ],
          "histogram2dcontour": [
           {
            "colorbar": {
             "outlinewidth": 0,
             "ticks": ""
            },
            "colorscale": [
             [
              0,
              "#0d0887"
             ],
             [
              0.1111111111111111,
              "#46039f"
             ],
             [
              0.2222222222222222,
              "#7201a8"
             ],
             [
              0.3333333333333333,
              "#9c179e"
             ],
             [
              0.4444444444444444,
              "#bd3786"
             ],
             [
              0.5555555555555556,
              "#d8576b"
             ],
             [
              0.6666666666666666,
              "#ed7953"
             ],
             [
              0.7777777777777778,
              "#fb9f3a"
             ],
             [
              0.8888888888888888,
              "#fdca26"
             ],
             [
              1,
              "#f0f921"
             ]
            ],
            "type": "histogram2dcontour"
           }
          ],
          "mesh3d": [
           {
            "colorbar": {
             "outlinewidth": 0,
             "ticks": ""
            },
            "type": "mesh3d"
           }
          ],
          "parcoords": [
           {
            "line": {
             "colorbar": {
              "outlinewidth": 0,
              "ticks": ""
             }
            },
            "type": "parcoords"
           }
          ],
          "pie": [
           {
            "automargin": true,
            "type": "pie"
           }
          ],
          "scatter": [
           {
            "fillpattern": {
             "fillmode": "overlay",
             "size": 10,
             "solidity": 0.2
            },
            "type": "scatter"
           }
          ],
          "scatter3d": [
           {
            "line": {
             "colorbar": {
              "outlinewidth": 0,
              "ticks": ""
             }
            },
            "marker": {
             "colorbar": {
              "outlinewidth": 0,
              "ticks": ""
             }
            },
            "type": "scatter3d"
           }
          ],
          "scattercarpet": [
           {
            "marker": {
             "colorbar": {
              "outlinewidth": 0,
              "ticks": ""
             }
            },
            "type": "scattercarpet"
           }
          ],
          "scattergeo": [
           {
            "marker": {
             "colorbar": {
              "outlinewidth": 0,
              "ticks": ""
             }
            },
            "type": "scattergeo"
           }
          ],
          "scattergl": [
           {
            "marker": {
             "colorbar": {
              "outlinewidth": 0,
              "ticks": ""
             }
            },
            "type": "scattergl"
           }
          ],
          "scattermapbox": [
           {
            "marker": {
             "colorbar": {
              "outlinewidth": 0,
              "ticks": ""
             }
            },
            "type": "scattermapbox"
           }
          ],
          "scatterpolar": [
           {
            "marker": {
             "colorbar": {
              "outlinewidth": 0,
              "ticks": ""
             }
            },
            "type": "scatterpolar"
           }
          ],
          "scatterpolargl": [
           {
            "marker": {
             "colorbar": {
              "outlinewidth": 0,
              "ticks": ""
             }
            },
            "type": "scatterpolargl"
           }
          ],
          "scatterternary": [
           {
            "marker": {
             "colorbar": {
              "outlinewidth": 0,
              "ticks": ""
             }
            },
            "type": "scatterternary"
           }
          ],
          "surface": [
           {
            "colorbar": {
             "outlinewidth": 0,
             "ticks": ""
            },
            "colorscale": [
             [
              0,
              "#0d0887"
             ],
             [
              0.1111111111111111,
              "#46039f"
             ],
             [
              0.2222222222222222,
              "#7201a8"
             ],
             [
              0.3333333333333333,
              "#9c179e"
             ],
             [
              0.4444444444444444,
              "#bd3786"
             ],
             [
              0.5555555555555556,
              "#d8576b"
             ],
             [
              0.6666666666666666,
              "#ed7953"
             ],
             [
              0.7777777777777778,
              "#fb9f3a"
             ],
             [
              0.8888888888888888,
              "#fdca26"
             ],
             [
              1,
              "#f0f921"
             ]
            ],
            "type": "surface"
           }
          ],
          "table": [
           {
            "cells": {
             "fill": {
              "color": "#EBF0F8"
             },
             "line": {
              "color": "white"
             }
            },
            "header": {
             "fill": {
              "color": "#C8D4E3"
             },
             "line": {
              "color": "white"
             }
            },
            "type": "table"
           }
          ]
         },
         "layout": {
          "annotationdefaults": {
           "arrowcolor": "#2a3f5f",
           "arrowhead": 0,
           "arrowwidth": 1
          },
          "autotypenumbers": "strict",
          "coloraxis": {
           "colorbar": {
            "outlinewidth": 0,
            "ticks": ""
           }
          },
          "colorscale": {
           "diverging": [
            [
             0,
             "#8e0152"
            ],
            [
             0.1,
             "#c51b7d"
            ],
            [
             0.2,
             "#de77ae"
            ],
            [
             0.3,
             "#f1b6da"
            ],
            [
             0.4,
             "#fde0ef"
            ],
            [
             0.5,
             "#f7f7f7"
            ],
            [
             0.6,
             "#e6f5d0"
            ],
            [
             0.7,
             "#b8e186"
            ],
            [
             0.8,
             "#7fbc41"
            ],
            [
             0.9,
             "#4d9221"
            ],
            [
             1,
             "#276419"
            ]
           ],
           "sequential": [
            [
             0,
             "#0d0887"
            ],
            [
             0.1111111111111111,
             "#46039f"
            ],
            [
             0.2222222222222222,
             "#7201a8"
            ],
            [
             0.3333333333333333,
             "#9c179e"
            ],
            [
             0.4444444444444444,
             "#bd3786"
            ],
            [
             0.5555555555555556,
             "#d8576b"
            ],
            [
             0.6666666666666666,
             "#ed7953"
            ],
            [
             0.7777777777777778,
             "#fb9f3a"
            ],
            [
             0.8888888888888888,
             "#fdca26"
            ],
            [
             1,
             "#f0f921"
            ]
           ],
           "sequentialminus": [
            [
             0,
             "#0d0887"
            ],
            [
             0.1111111111111111,
             "#46039f"
            ],
            [
             0.2222222222222222,
             "#7201a8"
            ],
            [
             0.3333333333333333,
             "#9c179e"
            ],
            [
             0.4444444444444444,
             "#bd3786"
            ],
            [
             0.5555555555555556,
             "#d8576b"
            ],
            [
             0.6666666666666666,
             "#ed7953"
            ],
            [
             0.7777777777777778,
             "#fb9f3a"
            ],
            [
             0.8888888888888888,
             "#fdca26"
            ],
            [
             1,
             "#f0f921"
            ]
           ]
          },
          "colorway": [
           "#636efa",
           "#EF553B",
           "#00cc96",
           "#ab63fa",
           "#FFA15A",
           "#19d3f3",
           "#FF6692",
           "#B6E880",
           "#FF97FF",
           "#FECB52"
          ],
          "font": {
           "color": "#2a3f5f"
          },
          "geo": {
           "bgcolor": "white",
           "lakecolor": "white",
           "landcolor": "#E5ECF6",
           "showlakes": true,
           "showland": true,
           "subunitcolor": "white"
          },
          "hoverlabel": {
           "align": "left"
          },
          "hovermode": "closest",
          "mapbox": {
           "style": "light"
          },
          "paper_bgcolor": "white",
          "plot_bgcolor": "#E5ECF6",
          "polar": {
           "angularaxis": {
            "gridcolor": "white",
            "linecolor": "white",
            "ticks": ""
           },
           "bgcolor": "#E5ECF6",
           "radialaxis": {
            "gridcolor": "white",
            "linecolor": "white",
            "ticks": ""
           }
          },
          "scene": {
           "xaxis": {
            "backgroundcolor": "#E5ECF6",
            "gridcolor": "white",
            "gridwidth": 2,
            "linecolor": "white",
            "showbackground": true,
            "ticks": "",
            "zerolinecolor": "white"
           },
           "yaxis": {
            "backgroundcolor": "#E5ECF6",
            "gridcolor": "white",
            "gridwidth": 2,
            "linecolor": "white",
            "showbackground": true,
            "ticks": "",
            "zerolinecolor": "white"
           },
           "zaxis": {
            "backgroundcolor": "#E5ECF6",
            "gridcolor": "white",
            "gridwidth": 2,
            "linecolor": "white",
            "showbackground": true,
            "ticks": "",
            "zerolinecolor": "white"
           }
          },
          "shapedefaults": {
           "line": {
            "color": "#2a3f5f"
           }
          },
          "ternary": {
           "aaxis": {
            "gridcolor": "white",
            "linecolor": "white",
            "ticks": ""
           },
           "baxis": {
            "gridcolor": "white",
            "linecolor": "white",
            "ticks": ""
           },
           "bgcolor": "#E5ECF6",
           "caxis": {
            "gridcolor": "white",
            "linecolor": "white",
            "ticks": ""
           }
          },
          "title": {
           "x": 0.05
          },
          "xaxis": {
           "automargin": true,
           "gridcolor": "white",
           "linecolor": "white",
           "ticks": "",
           "title": {
            "standoff": 15
           },
           "zerolinecolor": "white",
           "zerolinewidth": 2
          },
          "yaxis": {
           "automargin": true,
           "gridcolor": "white",
           "linecolor": "white",
           "ticks": "",
           "title": {
            "standoff": 15
           },
           "zerolinecolor": "white",
           "zerolinewidth": 2
          }
         }
        },
        "title": {
         "text": "Diagrama de dispersión multiple"
        },
        "width": 800
       }
      }
     },
     "metadata": {},
     "output_type": "display_data"
    }
   ],
   "source": [
    "plot_relations(datos_z,datos_z.columns[1:5],datos['Alcaldia'])"
   ]
  },
  {
   "cell_type": "code",
   "execution_count": 97,
   "metadata": {},
   "outputs": [
    {
     "data": {
      "application/vnd.plotly.v1+json": {
       "config": {
        "plotlyServerURL": "https://plot.ly"
       },
       "data": [
        {
         "dimensions": [
          {
           "axis": {
            "matches": true
           },
           "label": "Establecimientos_Mayores_65",
           "values": [
            0.20876357996308934
           ]
          },
          {
           "axis": {
            "matches": true
           },
           "label": "Establecimientos_Cuidados_Directos",
           "values": [
            0.41933372424297555
           ]
          },
          {
           "axis": {
            "matches": true
           },
           "label": "Establecimientos_Cuidados_Indirectos",
           "values": [
            0.3710616276141562
           ]
          },
          {
           "axis": {
            "matches": true
           },
           "label": "Total_Establecimientos",
           "values": [
            0.38563405254227373
           ]
          }
         ],
         "hovertemplate": "color=ALVARO OBREGÓN<br>%{xaxis.title.text}=%{x}<br>%{yaxis.title.text}=%{y}<extra></extra>",
         "legendgroup": "ALVARO OBREGÓN",
         "marker": {
          "color": "#636efa",
          "symbol": "circle"
         },
         "name": "ALVARO OBREGÓN",
         "showlegend": true,
         "type": "splom"
        },
        {
         "dimensions": [
          {
           "axis": {
            "matches": true
           },
           "label": "Establecimientos_Mayores_65",
           "values": [
            -0.6572186776615775
           ]
          },
          {
           "axis": {
            "matches": true
           },
           "label": "Establecimientos_Cuidados_Directos",
           "values": [
            -0.748959238822031
           ]
          },
          {
           "axis": {
            "matches": true
           },
           "label": "Establecimientos_Cuidados_Indirectos",
           "values": [
            -0.32530067621938086
           ]
          },
          {
           "axis": {
            "matches": true
           },
           "label": "Total_Establecimientos",
           "values": [
            -0.365514015018329
           ]
          }
         ],
         "hovertemplate": "color=AZCAPOTZALCO<br>%{xaxis.title.text}=%{x}<br>%{yaxis.title.text}=%{y}<extra></extra>",
         "legendgroup": "AZCAPOTZALCO",
         "marker": {
          "color": "#EF553B",
          "symbol": "circle"
         },
         "name": "AZCAPOTZALCO",
         "showlegend": true,
         "type": "splom"
        },
        {
         "dimensions": [
          {
           "axis": {
            "matches": true
           },
           "label": "Establecimientos_Mayores_65",
           "values": [
            0.8273223354092799
           ]
          },
          {
           "axis": {
            "matches": true
           },
           "label": "Establecimientos_Cuidados_Directos",
           "values": [
            0.48609332213240447
           ]
          },
          {
           "axis": {
            "matches": true
           },
           "label": "Establecimientos_Cuidados_Indirectos",
           "values": [
            -0.41682257900893144
           ]
          },
          {
           "axis": {
            "matches": true
           },
           "label": "Total_Establecimientos",
           "values": [
            -0.3154374771809555
           ]
          }
         ],
         "hovertemplate": "color=BENITO JUÁREZ<br>%{xaxis.title.text}=%{x}<br>%{yaxis.title.text}=%{y}<extra></extra>",
         "legendgroup": "BENITO JUÁREZ",
         "marker": {
          "color": "#00cc96",
          "symbol": "circle"
         },
         "name": "BENITO JUÁREZ",
         "showlegend": true,
         "type": "splom"
        },
        {
         "dimensions": [
          {
           "axis": {
            "matches": true
           },
           "label": "Establecimientos_Mayores_65",
           "values": [
            1.3221693397662324
           ]
          },
          {
           "axis": {
            "matches": true
           },
           "label": "Establecimientos_Cuidados_Directos",
           "values": [
            0.9200307084136926
           ]
          },
          {
           "axis": {
            "matches": true
           },
           "label": "Establecimientos_Cuidados_Indirectos",
           "values": [
            0.09251670608074135
           ]
          },
          {
           "axis": {
            "matches": true
           },
           "label": "Total_Establecimientos",
           "values": [
            0.18890479675259206
           ]
          }
         ],
         "hovertemplate": "color=COYOACÁN<br>%{xaxis.title.text}=%{x}<br>%{yaxis.title.text}=%{y}<extra></extra>",
         "legendgroup": "COYOACÁN",
         "marker": {
          "color": "#ab63fa",
          "symbol": "circle"
         },
         "name": "COYOACÁN",
         "showlegend": true,
         "type": "splom"
        },
        {
         "dimensions": [
          {
           "axis": {
            "matches": true
           },
           "label": "Establecimientos_Mayores_65",
           "values": [
            -0.7809304287508156
           ]
          },
          {
           "axis": {
            "matches": true
           },
           "label": "Establecimientos_Cuidados_Directos",
           "values": [
            -1.316415820882177
           ]
          },
          {
           "axis": {
            "matches": true
           },
           "label": "Establecimientos_Cuidados_Indirectos",
           "values": [
            -0.850556813968106
           ]
          },
          {
           "axis": {
            "matches": true
           },
           "label": "Total_Establecimientos",
           "values": [
            -0.8984714534303757
           ]
          }
         ],
         "hovertemplate": "color=CUAJIMALPA DE MORELOS<br>%{xaxis.title.text}=%{x}<br>%{yaxis.title.text}=%{y}<extra></extra>",
         "legendgroup": "CUAJIMALPA DE MORELOS",
         "marker": {
          "color": "#FFA15A",
          "symbol": "circle"
         },
         "name": "CUAJIMALPA DE MORELOS",
         "showlegend": true,
         "type": "splom"
        },
        {
         "dimensions": [
          {
           "axis": {
            "matches": true
           },
           "label": "Establecimientos_Mayores_65",
           "values": [
            -0.28608342439386314
           ]
          },
          {
           "axis": {
            "matches": true
           },
           "label": "Establecimientos_Cuidados_Directos",
           "values": [
            0.45271352318769004
           ]
          },
          {
           "axis": {
            "matches": true
           },
           "label": "Establecimientos_Cuidados_Indirectos",
           "values": [
            -0.17806978912314733
           ]
          },
          {
           "axis": {
            "matches": true
           },
           "label": "Total_Establecimientos",
           "values": [
            -0.10440063915202424
           ]
          }
         ],
         "hovertemplate": "color=CUAUHTÉMOC<br>%{xaxis.title.text}=%{x}<br>%{yaxis.title.text}=%{y}<extra></extra>",
         "legendgroup": "CUAUHTÉMOC",
         "marker": {
          "color": "#19d3f3",
          "symbol": "circle"
         },
         "name": "CUAUHTÉMOC",
         "showlegend": true,
         "type": "splom"
        },
        {
         "dimensions": [
          {
           "axis": {
            "matches": true
           },
           "label": "Establecimientos_Mayores_65",
           "values": [
            1.4458810908554705
           ]
          },
          {
           "axis": {
            "matches": true
           },
           "label": "Establecimientos_Cuidados_Directos",
           "values": [
            1.2872084968055517
           ]
          },
          {
           "axis": {
            "matches": true
           },
           "label": "Establecimientos_Cuidados_Indirectos",
           "values": [
            1.7995991537640978
           ]
          },
          {
           "axis": {
            "matches": true
           },
           "label": "Total_Establecimientos",
           "values": [
            1.7627388430700455
           ]
          }
         ],
         "hovertemplate": "color=GUSTAVO A. MADERO<br>%{xaxis.title.text}=%{x}<br>%{yaxis.title.text}=%{y}<extra></extra>",
         "legendgroup": "GUSTAVO A. MADERO",
         "marker": {
          "color": "#FF6692",
          "symbol": "circle"
         },
         "name": "GUSTAVO A. MADERO",
         "showlegend": true,
         "type": "splom"
        },
        {
         "dimensions": [
          {
           "axis": {
            "matches": true
           },
           "label": "Establecimientos_Mayores_65",
           "values": [
            -1.15206568201853
           ]
          },
          {
           "axis": {
            "matches": true
           },
           "label": "Establecimientos_Cuidados_Directos",
           "values": [
            -0.8157188367114598
           ]
          },
          {
           "axis": {
            "matches": true
           },
           "label": "Establecimientos_Cuidados_Indirectos",
           "values": [
            -0.3969265131851161
           ]
          },
          {
           "axis": {
            "matches": true
           },
           "label": "Total_Establecimientos",
           "values": [
            -0.4370519262145769
           ]
          }
         ],
         "hovertemplate": "color=IZTACALCO<br>%{xaxis.title.text}=%{x}<br>%{yaxis.title.text}=%{y}<extra></extra>",
         "legendgroup": "IZTACALCO",
         "marker": {
          "color": "#B6E880",
          "symbol": "circle"
         },
         "name": "IZTACALCO",
         "showlegend": true,
         "type": "splom"
        },
        {
         "dimensions": [
          {
           "axis": {
            "matches": true
           },
           "label": "Establecimientos_Mayores_65",
           "values": [
            1.940728095212423
           ]
          },
          {
           "axis": {
            "matches": true
           },
           "label": "Establecimientos_Cuidados_Directos",
           "values": [
            2.3219822640917003
           ]
          },
          {
           "axis": {
            "matches": true
           },
           "label": "Establecimientos_Cuidados_Indirectos",
           "values": [
            3.0092799558520706
           ]
          },
          {
           "axis": {
            "matches": true
           },
           "label": "Total_Establecimientos",
           "values": [
            2.960998855607197
           ]
          }
         ],
         "hovertemplate": "color=IZTAPALAPA<br>%{xaxis.title.text}=%{x}<br>%{yaxis.title.text}=%{y}<extra></extra>",
         "legendgroup": "IZTAPALAPA",
         "marker": {
          "color": "#FF97FF",
          "symbol": "circle"
         },
         "name": "IZTAPALAPA",
         "showlegend": true,
         "type": "splom"
        },
        {
         "dimensions": [
          {
           "axis": {
            "matches": true
           },
           "label": "Establecimientos_Mayores_65",
           "values": [
            -0.6572186776615775
           ]
          },
          {
           "axis": {
            "matches": true
           },
           "label": "Establecimientos_Cuidados_Directos",
           "values": [
            -1.0159976303797467
           ]
          },
          {
           "axis": {
            "matches": true
           },
           "label": "Establecimientos_Cuidados_Indirectos",
           "values": [
            -0.79086861649666
           ]
          },
          {
           "axis": {
            "matches": true
           },
           "label": "Total_Establecimientos",
           "values": [
            -0.9270866179088748
           ]
          }
         ],
         "hovertemplate": "color=LA MAGDALENA CONTRERAS<br>%{xaxis.title.text}=%{x}<br>%{yaxis.title.text}=%{y}<extra></extra>",
         "legendgroup": "LA MAGDALENA CONTRERAS",
         "marker": {
          "color": "#FECB52",
          "symbol": "circle"
         },
         "name": "LA MAGDALENA CONTRERAS",
         "showlegend": true,
         "type": "splom"
        },
        {
         "dimensions": [
          {
           "axis": {
            "matches": true
           },
           "label": "Establecimientos_Mayores_65",
           "values": [
            -0.7809304287508156
           ]
          },
          {
           "axis": {
            "matches": true
           },
           "label": "Establecimientos_Cuidados_Directos",
           "values": [
            -0.11474305887245599
           ]
          },
          {
           "axis": {
            "matches": true
           },
           "label": "Establecimientos_Cuidados_Indirectos",
           "values": [
            -0.37703044736130076
           ]
          },
          {
           "axis": {
            "matches": true
           },
           "label": "Total_Establecimientos",
           "values": [
            -0.34405264165945465
           ]
          }
         ],
         "hovertemplate": "color=MIGUEL HIDALGO<br>%{xaxis.title.text}=%{x}<br>%{yaxis.title.text}=%{y}<extra></extra>",
         "legendgroup": "MIGUEL HIDALGO",
         "marker": {
          "color": "#636efa",
          "symbol": "circle"
         },
         "name": "MIGUEL HIDALGO",
         "showlegend": true,
         "type": "splom"
        },
        {
         "dimensions": [
          {
           "axis": {
            "matches": true
           },
           "label": "Establecimientos_Mayores_65",
           "values": [
            -1.3994891841970063
           ]
          },
          {
           "axis": {
            "matches": true
           },
           "label": "Establecimientos_Cuidados_Directos",
           "values": [
            -1.4165552177163203
           ]
          },
          {
           "axis": {
            "matches": true
           },
           "label": "Establecimientos_Cuidados_Indirectos",
           "values": [
            -1.021662980052918
           ]
          },
          {
           "axis": {
            "matches": true
           },
           "label": "Total_Establecimientos",
           "values": [
            -1.0630086491817459
           ]
          }
         ],
         "hovertemplate": "color=MILPA ALTA<br>%{xaxis.title.text}=%{x}<br>%{yaxis.title.text}=%{y}<extra></extra>",
         "legendgroup": "MILPA ALTA",
         "marker": {
          "color": "#EF553B",
          "symbol": "circle"
         },
         "name": "MILPA ALTA",
         "showlegend": true,
         "type": "splom"
        },
        {
         "dimensions": [
          {
           "axis": {
            "matches": true
           },
           "label": "Establecimientos_Mayores_65",
           "values": [
            -0.4097951754831013
           ]
          },
          {
           "axis": {
            "matches": true
           },
           "label": "Establecimientos_Cuidados_Directos",
           "values": [
            -0.5153006462090296
           ]
          },
          {
           "axis": {
            "matches": true
           },
           "label": "Establecimientos_Cuidados_Indirectos",
           "values": [
            -0.4526354974917991
           ]
          },
          {
           "axis": {
            "matches": true
           },
           "label": "Total_Establecimientos",
           "values": [
            -0.45493640401363883
           ]
          }
         ],
         "hovertemplate": "color=TLÁHUAC<br>%{xaxis.title.text}=%{x}<br>%{yaxis.title.text}=%{y}<extra></extra>",
         "legendgroup": "TLÁHUAC",
         "marker": {
          "color": "#00cc96",
          "symbol": "circle"
         },
         "name": "TLÁHUAC",
         "showlegend": true,
         "type": "splom"
        },
        {
         "dimensions": [
          {
           "axis": {
            "matches": true
           },
           "label": "Establecimientos_Mayores_65",
           "values": [
            0.7036105843200418
           ]
          },
          {
           "axis": {
            "matches": true
           },
           "label": "Establecimientos_Cuidados_Directos",
           "values": [
            0.8866509094689782
           ]
          },
          {
           "axis": {
            "matches": true
           },
           "label": "Establecimientos_Cuidados_Indirectos",
           "values": [
            0.25566444583602715
           ]
          },
          {
           "axis": {
            "matches": true
           },
           "label": "Total_Establecimientos",
           "values": [
            0.3319806191450878
           ]
          }
         ],
         "hovertemplate": "color=TLALPAN<br>%{xaxis.title.text}=%{x}<br>%{yaxis.title.text}=%{y}<extra></extra>",
         "legendgroup": "TLALPAN",
         "marker": {
          "color": "#ab63fa",
          "symbol": "circle"
         },
         "name": "TLALPAN",
         "showlegend": true,
         "type": "splom"
        },
        {
         "dimensions": [
          {
           "axis": {
            "matches": true
           },
           "label": "Establecimientos_Mayores_65",
           "values": [
            -1.028353930929292
           ]
          },
          {
           "axis": {
            "matches": true
           },
           "label": "Establecimientos_Cuidados_Directos",
           "values": [
            -0.615440043043173
           ]
          },
          {
           "axis": {
            "matches": true
           },
           "label": "Establecimientos_Cuidados_Indirectos",
           "values": [
            -0.24173719975935642
           ]
          },
          {
           "axis": {
            "matches": true
           },
           "label": "Total_Establecimientos",
           "values": [
            -0.2760916260230192
           ]
          }
         ],
         "hovertemplate": "color=VENUSTIANO CARRANZA<br>%{xaxis.title.text}=%{x}<br>%{yaxis.title.text}=%{y}<extra></extra>",
         "legendgroup": "VENUSTIANO CARRANZA",
         "marker": {
          "color": "#FFA15A",
          "symbol": "circle"
         },
         "name": "VENUSTIANO CARRANZA",
         "showlegend": true,
         "type": "splom"
        },
        {
         "dimensions": [
          {
           "axis": {
            "matches": true
           },
           "label": "Establecimientos_Mayores_65",
           "values": [
            0.7036105843200418
           ]
          },
          {
           "axis": {
            "matches": true
           },
           "label": "Establecimientos_Cuidados_Directos",
           "values": [
            -0.21488245570659942
           ]
          },
          {
           "axis": {
            "matches": true
           },
           "label": "Establecimientos_Cuidados_Indirectos",
           "values": [
            -0.4765107764803775
           ]
          },
          {
           "axis": {
            "matches": true
           },
           "label": "Total_Establecimientos",
           "values": [
            -0.44420571733420167
           ]
          }
         ],
         "hovertemplate": "color=XOCHIMILCO<br>%{xaxis.title.text}=%{x}<br>%{yaxis.title.text}=%{y}<extra></extra>",
         "legendgroup": "XOCHIMILCO",
         "marker": {
          "color": "#19d3f3",
          "symbol": "circle"
         },
         "name": "XOCHIMILCO",
         "showlegend": true,
         "type": "splom"
        }
       ],
       "layout": {
        "autosize": false,
        "dragmode": "select",
        "height": 800,
        "legend": {
         "title": {
          "text": "color"
         },
         "tracegroupgap": 0
        },
        "template": {
         "data": {
          "bar": [
           {
            "error_x": {
             "color": "#2a3f5f"
            },
            "error_y": {
             "color": "#2a3f5f"
            },
            "marker": {
             "line": {
              "color": "#E5ECF6",
              "width": 0.5
             },
             "pattern": {
              "fillmode": "overlay",
              "size": 10,
              "solidity": 0.2
             }
            },
            "type": "bar"
           }
          ],
          "barpolar": [
           {
            "marker": {
             "line": {
              "color": "#E5ECF6",
              "width": 0.5
             },
             "pattern": {
              "fillmode": "overlay",
              "size": 10,
              "solidity": 0.2
             }
            },
            "type": "barpolar"
           }
          ],
          "carpet": [
           {
            "aaxis": {
             "endlinecolor": "#2a3f5f",
             "gridcolor": "white",
             "linecolor": "white",
             "minorgridcolor": "white",
             "startlinecolor": "#2a3f5f"
            },
            "baxis": {
             "endlinecolor": "#2a3f5f",
             "gridcolor": "white",
             "linecolor": "white",
             "minorgridcolor": "white",
             "startlinecolor": "#2a3f5f"
            },
            "type": "carpet"
           }
          ],
          "choropleth": [
           {
            "colorbar": {
             "outlinewidth": 0,
             "ticks": ""
            },
            "type": "choropleth"
           }
          ],
          "contour": [
           {
            "colorbar": {
             "outlinewidth": 0,
             "ticks": ""
            },
            "colorscale": [
             [
              0,
              "#0d0887"
             ],
             [
              0.1111111111111111,
              "#46039f"
             ],
             [
              0.2222222222222222,
              "#7201a8"
             ],
             [
              0.3333333333333333,
              "#9c179e"
             ],
             [
              0.4444444444444444,
              "#bd3786"
             ],
             [
              0.5555555555555556,
              "#d8576b"
             ],
             [
              0.6666666666666666,
              "#ed7953"
             ],
             [
              0.7777777777777778,
              "#fb9f3a"
             ],
             [
              0.8888888888888888,
              "#fdca26"
             ],
             [
              1,
              "#f0f921"
             ]
            ],
            "type": "contour"
           }
          ],
          "contourcarpet": [
           {
            "colorbar": {
             "outlinewidth": 0,
             "ticks": ""
            },
            "type": "contourcarpet"
           }
          ],
          "heatmap": [
           {
            "colorbar": {
             "outlinewidth": 0,
             "ticks": ""
            },
            "colorscale": [
             [
              0,
              "#0d0887"
             ],
             [
              0.1111111111111111,
              "#46039f"
             ],
             [
              0.2222222222222222,
              "#7201a8"
             ],
             [
              0.3333333333333333,
              "#9c179e"
             ],
             [
              0.4444444444444444,
              "#bd3786"
             ],
             [
              0.5555555555555556,
              "#d8576b"
             ],
             [
              0.6666666666666666,
              "#ed7953"
             ],
             [
              0.7777777777777778,
              "#fb9f3a"
             ],
             [
              0.8888888888888888,
              "#fdca26"
             ],
             [
              1,
              "#f0f921"
             ]
            ],
            "type": "heatmap"
           }
          ],
          "heatmapgl": [
           {
            "colorbar": {
             "outlinewidth": 0,
             "ticks": ""
            },
            "colorscale": [
             [
              0,
              "#0d0887"
             ],
             [
              0.1111111111111111,
              "#46039f"
             ],
             [
              0.2222222222222222,
              "#7201a8"
             ],
             [
              0.3333333333333333,
              "#9c179e"
             ],
             [
              0.4444444444444444,
              "#bd3786"
             ],
             [
              0.5555555555555556,
              "#d8576b"
             ],
             [
              0.6666666666666666,
              "#ed7953"
             ],
             [
              0.7777777777777778,
              "#fb9f3a"
             ],
             [
              0.8888888888888888,
              "#fdca26"
             ],
             [
              1,
              "#f0f921"
             ]
            ],
            "type": "heatmapgl"
           }
          ],
          "histogram": [
           {
            "marker": {
             "pattern": {
              "fillmode": "overlay",
              "size": 10,
              "solidity": 0.2
             }
            },
            "type": "histogram"
           }
          ],
          "histogram2d": [
           {
            "colorbar": {
             "outlinewidth": 0,
             "ticks": ""
            },
            "colorscale": [
             [
              0,
              "#0d0887"
             ],
             [
              0.1111111111111111,
              "#46039f"
             ],
             [
              0.2222222222222222,
              "#7201a8"
             ],
             [
              0.3333333333333333,
              "#9c179e"
             ],
             [
              0.4444444444444444,
              "#bd3786"
             ],
             [
              0.5555555555555556,
              "#d8576b"
             ],
             [
              0.6666666666666666,
              "#ed7953"
             ],
             [
              0.7777777777777778,
              "#fb9f3a"
             ],
             [
              0.8888888888888888,
              "#fdca26"
             ],
             [
              1,
              "#f0f921"
             ]
            ],
            "type": "histogram2d"
           }
          ],
          "histogram2dcontour": [
           {
            "colorbar": {
             "outlinewidth": 0,
             "ticks": ""
            },
            "colorscale": [
             [
              0,
              "#0d0887"
             ],
             [
              0.1111111111111111,
              "#46039f"
             ],
             [
              0.2222222222222222,
              "#7201a8"
             ],
             [
              0.3333333333333333,
              "#9c179e"
             ],
             [
              0.4444444444444444,
              "#bd3786"
             ],
             [
              0.5555555555555556,
              "#d8576b"
             ],
             [
              0.6666666666666666,
              "#ed7953"
             ],
             [
              0.7777777777777778,
              "#fb9f3a"
             ],
             [
              0.8888888888888888,
              "#fdca26"
             ],
             [
              1,
              "#f0f921"
             ]
            ],
            "type": "histogram2dcontour"
           }
          ],
          "mesh3d": [
           {
            "colorbar": {
             "outlinewidth": 0,
             "ticks": ""
            },
            "type": "mesh3d"
           }
          ],
          "parcoords": [
           {
            "line": {
             "colorbar": {
              "outlinewidth": 0,
              "ticks": ""
             }
            },
            "type": "parcoords"
           }
          ],
          "pie": [
           {
            "automargin": true,
            "type": "pie"
           }
          ],
          "scatter": [
           {
            "fillpattern": {
             "fillmode": "overlay",
             "size": 10,
             "solidity": 0.2
            },
            "type": "scatter"
           }
          ],
          "scatter3d": [
           {
            "line": {
             "colorbar": {
              "outlinewidth": 0,
              "ticks": ""
             }
            },
            "marker": {
             "colorbar": {
              "outlinewidth": 0,
              "ticks": ""
             }
            },
            "type": "scatter3d"
           }
          ],
          "scattercarpet": [
           {
            "marker": {
             "colorbar": {
              "outlinewidth": 0,
              "ticks": ""
             }
            },
            "type": "scattercarpet"
           }
          ],
          "scattergeo": [
           {
            "marker": {
             "colorbar": {
              "outlinewidth": 0,
              "ticks": ""
             }
            },
            "type": "scattergeo"
           }
          ],
          "scattergl": [
           {
            "marker": {
             "colorbar": {
              "outlinewidth": 0,
              "ticks": ""
             }
            },
            "type": "scattergl"
           }
          ],
          "scattermapbox": [
           {
            "marker": {
             "colorbar": {
              "outlinewidth": 0,
              "ticks": ""
             }
            },
            "type": "scattermapbox"
           }
          ],
          "scatterpolar": [
           {
            "marker": {
             "colorbar": {
              "outlinewidth": 0,
              "ticks": ""
             }
            },
            "type": "scatterpolar"
           }
          ],
          "scatterpolargl": [
           {
            "marker": {
             "colorbar": {
              "outlinewidth": 0,
              "ticks": ""
             }
            },
            "type": "scatterpolargl"
           }
          ],
          "scatterternary": [
           {
            "marker": {
             "colorbar": {
              "outlinewidth": 0,
              "ticks": ""
             }
            },
            "type": "scatterternary"
           }
          ],
          "surface": [
           {
            "colorbar": {
             "outlinewidth": 0,
             "ticks": ""
            },
            "colorscale": [
             [
              0,
              "#0d0887"
             ],
             [
              0.1111111111111111,
              "#46039f"
             ],
             [
              0.2222222222222222,
              "#7201a8"
             ],
             [
              0.3333333333333333,
              "#9c179e"
             ],
             [
              0.4444444444444444,
              "#bd3786"
             ],
             [
              0.5555555555555556,
              "#d8576b"
             ],
             [
              0.6666666666666666,
              "#ed7953"
             ],
             [
              0.7777777777777778,
              "#fb9f3a"
             ],
             [
              0.8888888888888888,
              "#fdca26"
             ],
             [
              1,
              "#f0f921"
             ]
            ],
            "type": "surface"
           }
          ],
          "table": [
           {
            "cells": {
             "fill": {
              "color": "#EBF0F8"
             },
             "line": {
              "color": "white"
             }
            },
            "header": {
             "fill": {
              "color": "#C8D4E3"
             },
             "line": {
              "color": "white"
             }
            },
            "type": "table"
           }
          ]
         },
         "layout": {
          "annotationdefaults": {
           "arrowcolor": "#2a3f5f",
           "arrowhead": 0,
           "arrowwidth": 1
          },
          "autotypenumbers": "strict",
          "coloraxis": {
           "colorbar": {
            "outlinewidth": 0,
            "ticks": ""
           }
          },
          "colorscale": {
           "diverging": [
            [
             0,
             "#8e0152"
            ],
            [
             0.1,
             "#c51b7d"
            ],
            [
             0.2,
             "#de77ae"
            ],
            [
             0.3,
             "#f1b6da"
            ],
            [
             0.4,
             "#fde0ef"
            ],
            [
             0.5,
             "#f7f7f7"
            ],
            [
             0.6,
             "#e6f5d0"
            ],
            [
             0.7,
             "#b8e186"
            ],
            [
             0.8,
             "#7fbc41"
            ],
            [
             0.9,
             "#4d9221"
            ],
            [
             1,
             "#276419"
            ]
           ],
           "sequential": [
            [
             0,
             "#0d0887"
            ],
            [
             0.1111111111111111,
             "#46039f"
            ],
            [
             0.2222222222222222,
             "#7201a8"
            ],
            [
             0.3333333333333333,
             "#9c179e"
            ],
            [
             0.4444444444444444,
             "#bd3786"
            ],
            [
             0.5555555555555556,
             "#d8576b"
            ],
            [
             0.6666666666666666,
             "#ed7953"
            ],
            [
             0.7777777777777778,
             "#fb9f3a"
            ],
            [
             0.8888888888888888,
             "#fdca26"
            ],
            [
             1,
             "#f0f921"
            ]
           ],
           "sequentialminus": [
            [
             0,
             "#0d0887"
            ],
            [
             0.1111111111111111,
             "#46039f"
            ],
            [
             0.2222222222222222,
             "#7201a8"
            ],
            [
             0.3333333333333333,
             "#9c179e"
            ],
            [
             0.4444444444444444,
             "#bd3786"
            ],
            [
             0.5555555555555556,
             "#d8576b"
            ],
            [
             0.6666666666666666,
             "#ed7953"
            ],
            [
             0.7777777777777778,
             "#fb9f3a"
            ],
            [
             0.8888888888888888,
             "#fdca26"
            ],
            [
             1,
             "#f0f921"
            ]
           ]
          },
          "colorway": [
           "#636efa",
           "#EF553B",
           "#00cc96",
           "#ab63fa",
           "#FFA15A",
           "#19d3f3",
           "#FF6692",
           "#B6E880",
           "#FF97FF",
           "#FECB52"
          ],
          "font": {
           "color": "#2a3f5f"
          },
          "geo": {
           "bgcolor": "white",
           "lakecolor": "white",
           "landcolor": "#E5ECF6",
           "showlakes": true,
           "showland": true,
           "subunitcolor": "white"
          },
          "hoverlabel": {
           "align": "left"
          },
          "hovermode": "closest",
          "mapbox": {
           "style": "light"
          },
          "paper_bgcolor": "white",
          "plot_bgcolor": "#E5ECF6",
          "polar": {
           "angularaxis": {
            "gridcolor": "white",
            "linecolor": "white",
            "ticks": ""
           },
           "bgcolor": "#E5ECF6",
           "radialaxis": {
            "gridcolor": "white",
            "linecolor": "white",
            "ticks": ""
           }
          },
          "scene": {
           "xaxis": {
            "backgroundcolor": "#E5ECF6",
            "gridcolor": "white",
            "gridwidth": 2,
            "linecolor": "white",
            "showbackground": true,
            "ticks": "",
            "zerolinecolor": "white"
           },
           "yaxis": {
            "backgroundcolor": "#E5ECF6",
            "gridcolor": "white",
            "gridwidth": 2,
            "linecolor": "white",
            "showbackground": true,
            "ticks": "",
            "zerolinecolor": "white"
           },
           "zaxis": {
            "backgroundcolor": "#E5ECF6",
            "gridcolor": "white",
            "gridwidth": 2,
            "linecolor": "white",
            "showbackground": true,
            "ticks": "",
            "zerolinecolor": "white"
           }
          },
          "shapedefaults": {
           "line": {
            "color": "#2a3f5f"
           }
          },
          "ternary": {
           "aaxis": {
            "gridcolor": "white",
            "linecolor": "white",
            "ticks": ""
           },
           "baxis": {
            "gridcolor": "white",
            "linecolor": "white",
            "ticks": ""
           },
           "bgcolor": "#E5ECF6",
           "caxis": {
            "gridcolor": "white",
            "linecolor": "white",
            "ticks": ""
           }
          },
          "title": {
           "x": 0.05
          },
          "xaxis": {
           "automargin": true,
           "gridcolor": "white",
           "linecolor": "white",
           "ticks": "",
           "title": {
            "standoff": 15
           },
           "zerolinecolor": "white",
           "zerolinewidth": 2
          },
          "yaxis": {
           "automargin": true,
           "gridcolor": "white",
           "linecolor": "white",
           "ticks": "",
           "title": {
            "standoff": 15
           },
           "zerolinecolor": "white",
           "zerolinewidth": 2
          }
         }
        },
        "title": {
         "text": "Diagrama de dispersión multiple"
        },
        "width": 800
       }
      }
     },
     "metadata": {},
     "output_type": "display_data"
    }
   ],
   "source": [
    "plot_relations(datos_z,datos_z.columns[5:9],datos['Alcaldia'])"
   ]
  },
  {
   "cell_type": "code",
   "execution_count": 98,
   "metadata": {},
   "outputs": [],
   "source": [
    "from sklearn.tree import DecisionTreeClassifier\n",
    "from sklearn.ensemble import RandomForestClassifier\n",
    "from sklearn.ensemble import AdaBoostClassifier\n",
    "\n",
    "import matplotlib.pyplot as plt"
   ]
  },
  {
   "cell_type": "code",
   "execution_count": 99,
   "metadata": {},
   "outputs": [],
   "source": [
    "columns_int = datos_z.columns.drop('Total_Poblacion_Requiere_Cuidados_65')"
   ]
  },
  {
   "cell_type": "code",
   "execution_count": 100,
   "metadata": {},
   "outputs": [
    {
     "data": {
      "text/html": [
       "<style>#sk-container-id-3 {color: black;}#sk-container-id-3 pre{padding: 0;}#sk-container-id-3 div.sk-toggleable {background-color: white;}#sk-container-id-3 label.sk-toggleable__label {cursor: pointer;display: block;width: 100%;margin-bottom: 0;padding: 0.3em;box-sizing: border-box;text-align: center;}#sk-container-id-3 label.sk-toggleable__label-arrow:before {content: \"▸\";float: left;margin-right: 0.25em;color: #696969;}#sk-container-id-3 label.sk-toggleable__label-arrow:hover:before {color: black;}#sk-container-id-3 div.sk-estimator:hover label.sk-toggleable__label-arrow:before {color: black;}#sk-container-id-3 div.sk-toggleable__content {max-height: 0;max-width: 0;overflow: hidden;text-align: left;background-color: #f0f8ff;}#sk-container-id-3 div.sk-toggleable__content pre {margin: 0.2em;color: black;border-radius: 0.25em;background-color: #f0f8ff;}#sk-container-id-3 input.sk-toggleable__control:checked~div.sk-toggleable__content {max-height: 200px;max-width: 100%;overflow: auto;}#sk-container-id-3 input.sk-toggleable__control:checked~label.sk-toggleable__label-arrow:before {content: \"▾\";}#sk-container-id-3 div.sk-estimator input.sk-toggleable__control:checked~label.sk-toggleable__label {background-color: #d4ebff;}#sk-container-id-3 div.sk-label input.sk-toggleable__control:checked~label.sk-toggleable__label {background-color: #d4ebff;}#sk-container-id-3 input.sk-hidden--visually {border: 0;clip: rect(1px 1px 1px 1px);clip: rect(1px, 1px, 1px, 1px);height: 1px;margin: -1px;overflow: hidden;padding: 0;position: absolute;width: 1px;}#sk-container-id-3 div.sk-estimator {font-family: monospace;background-color: #f0f8ff;border: 1px dotted black;border-radius: 0.25em;box-sizing: border-box;margin-bottom: 0.5em;}#sk-container-id-3 div.sk-estimator:hover {background-color: #d4ebff;}#sk-container-id-3 div.sk-parallel-item::after {content: \"\";width: 100%;border-bottom: 1px solid gray;flex-grow: 1;}#sk-container-id-3 div.sk-label:hover label.sk-toggleable__label {background-color: #d4ebff;}#sk-container-id-3 div.sk-serial::before {content: \"\";position: absolute;border-left: 1px solid gray;box-sizing: border-box;top: 0;bottom: 0;left: 50%;z-index: 0;}#sk-container-id-3 div.sk-serial {display: flex;flex-direction: column;align-items: center;background-color: white;padding-right: 0.2em;padding-left: 0.2em;position: relative;}#sk-container-id-3 div.sk-item {position: relative;z-index: 1;}#sk-container-id-3 div.sk-parallel {display: flex;align-items: stretch;justify-content: center;background-color: white;position: relative;}#sk-container-id-3 div.sk-item::before, #sk-container-id-3 div.sk-parallel-item::before {content: \"\";position: absolute;border-left: 1px solid gray;box-sizing: border-box;top: 0;bottom: 0;left: 50%;z-index: -1;}#sk-container-id-3 div.sk-parallel-item {display: flex;flex-direction: column;z-index: 1;position: relative;background-color: white;}#sk-container-id-3 div.sk-parallel-item:first-child::after {align-self: flex-end;width: 50%;}#sk-container-id-3 div.sk-parallel-item:last-child::after {align-self: flex-start;width: 50%;}#sk-container-id-3 div.sk-parallel-item:only-child::after {width: 0;}#sk-container-id-3 div.sk-dashed-wrapped {border: 1px dashed gray;margin: 0 0.4em 0.5em 0.4em;box-sizing: border-box;padding-bottom: 0.4em;background-color: white;}#sk-container-id-3 div.sk-label label {font-family: monospace;font-weight: bold;display: inline-block;line-height: 1.2em;}#sk-container-id-3 div.sk-label-container {text-align: center;}#sk-container-id-3 div.sk-container {/* jupyter's `normalize.less` sets `[hidden] { display: none; }` but bootstrap.min.css set `[hidden] { display: none !important; }` so we also need the `!important` here to be able to override the default hidden behavior on the sphinx rendered scikit-learn.org. See: https://github.com/scikit-learn/scikit-learn/issues/21755 */display: inline-block !important;position: relative;}#sk-container-id-3 div.sk-text-repr-fallback {display: none;}</style><div id=\"sk-container-id-3\" class=\"sk-top-container\"><div class=\"sk-text-repr-fallback\"><pre>DecisionTreeClassifier(random_state=42)</pre><b>In a Jupyter environment, please rerun this cell to show the HTML representation or trust the notebook. <br />On GitHub, the HTML representation is unable to render, please try loading this page with nbviewer.org.</b></div><div class=\"sk-container\" hidden><div class=\"sk-item\"><div class=\"sk-estimator sk-toggleable\"><input class=\"sk-toggleable__control sk-hidden--visually\" id=\"sk-estimator-id-3\" type=\"checkbox\" checked><label for=\"sk-estimator-id-3\" class=\"sk-toggleable__label sk-toggleable__label-arrow\">DecisionTreeClassifier</label><div class=\"sk-toggleable__content\"><pre>DecisionTreeClassifier(random_state=42)</pre></div></div></div></div></div>"
      ],
      "text/plain": [
       "DecisionTreeClassifier(random_state=42)"
      ]
     },
     "execution_count": 100,
     "metadata": {},
     "output_type": "execute_result"
    }
   ],
   "source": [
    "# Decision Tree CART\n",
    "CART_model = DecisionTreeClassifier(random_state=42)\n",
    "CART_model.fit(datos_z, np.reshape(datos['Alcaldia'],16))"
   ]
  },
  {
   "cell_type": "code",
   "execution_count": 101,
   "metadata": {},
   "outputs": [],
   "source": [
    "CART_vars = CART_model.feature_importances_\n"
   ]
  },
  {
   "cell_type": "code",
   "execution_count": 102,
   "metadata": {},
   "outputs": [
    {
     "data": {
      "text/plain": [
       "array([0.06666667, 0.06666667, 0.13333333, 0.06666667, 0.13333333,\n",
       "       0.2       , 0.        , 0.        , 0.06666667, 0.06666667,\n",
       "       0.        , 0.        , 0.        , 0.        , 0.06666667,\n",
       "       0.13333333, 0.        , 0.        ])"
      ]
     },
     "execution_count": 102,
     "metadata": {},
     "output_type": "execute_result"
    }
   ],
   "source": [
    "CART_vars"
   ]
  },
  {
   "cell_type": "code",
   "execution_count": 103,
   "metadata": {},
   "outputs": [],
   "source": [
    "n_features = 18"
   ]
  },
  {
   "cell_type": "code",
   "execution_count": 104,
   "metadata": {},
   "outputs": [
    {
     "data": {
      "text/plain": [
       "(18,)"
      ]
     },
     "execution_count": 104,
     "metadata": {},
     "output_type": "execute_result"
    }
   ],
   "source": [
    "CART_vars.shape"
   ]
  },
  {
   "cell_type": "code",
   "execution_count": 105,
   "metadata": {},
   "outputs": [
    {
     "data": {
      "image/png": "[encoded data removed]",
      "text/plain": [
       "<Figure size 1000x800 with 1 Axes>"
      ]
     },
     "metadata": {},
     "output_type": "display_data"
    }
   ],
   "source": [
    "plt.rcParams['figure.figsize'] = (10, 8)\n",
    "plt.barh(np.arange(n_features), CART_vars, align='center')\n",
    "plt.yticks(np.arange(n_features), datos.columns[1:])\n",
    "plt.xlabel(\"Importancia\")\n",
    "plt.ylabel(\"Características\")\n",
    "plt.ylim(-1, n_features)\n",
    "plt.show()"
   ]
  },
  {
   "cell_type": "code",
   "execution_count": 106,
   "metadata": {},
   "outputs": [
    {
     "data": {
      "text/plain": [
       "(18,)"
      ]
     },
     "execution_count": 106,
     "metadata": {},
     "output_type": "execute_result"
    }
   ],
   "source": [
    "# Random Forest\n",
    "RF_model = RandomForestClassifier(n_estimators=100,min_samples_split=4, n_jobs=-1, random_state=42)\n",
    "RF_model.fit(datos_z, np.reshape(datos['Alcaldia'],16))\n",
    "RF_vars = np.mean([tree.feature_importances_ for tree in RF_model.estimators_], axis=0)\n",
    "RF_vars.shape"
   ]
  },
  {
   "cell_type": "code",
   "execution_count": 107,
   "metadata": {},
   "outputs": [
    {
     "data": {
      "image/png": "[encoded data removed]",
      "text/plain": [
       "<Figure size 1000x800 with 1 Axes>"
      ]
     },
     "metadata": {},
     "output_type": "display_data"
    }
   ],
   "source": [
    "plt.rcParams['figure.figsize'] = (10, 8)\n",
    "plt.title('Importancia de Características (Random Forest)')\n",
    "plt.barh(np.arange(n_features), RF_vars, align='center')\n",
    "plt.yticks(np.arange(n_features), datos.columns[1:])\n",
    "plt.xlabel(\"Importancia\")\n",
    "plt.ylabel(\"Característica\")\n",
    "plt.ylim(-1, n_features)\n",
    "plt.show()"
   ]
  },
  {
   "cell_type": "code",
   "execution_count": 108,
   "metadata": {},
   "outputs": [
    {
     "data": {
      "text/plain": [
       "(18,)"
      ]
     },
     "execution_count": 108,
     "metadata": {},
     "output_type": "execute_result"
    }
   ],
   "source": [
    "# Adaboost classifier con Decision Tree como base\n",
    "ABOOST_model = AdaBoostClassifier(DecisionTreeClassifier(max_depth=2), n_estimators=100,algorithm=\"SAMME.R\", learning_rate=1, random_state=42)\n",
    "ABOOST_model.fit(datos_z, np.reshape(datos['Alcaldia'],16))\n",
    "\n",
    "Adaboost_vars = np.mean([tree.feature_importances_ for tree in ABOOST_model.estimators_], axis=0)\n",
    "Adaboost_vars.shape"
   ]
  },
  {
   "cell_type": "code",
   "execution_count": 109,
   "metadata": {},
   "outputs": [
    {
     "data": {
      "image/png": "[encoded data removed]",
      "text/plain": [
       "<Figure size 1000x800 with 1 Axes>"
      ]
     },
     "metadata": {},
     "output_type": "display_data"
    }
   ],
   "source": [
    "plt.rcParams['figure.figsize'] = (10, 8)\n",
    "plt.title('Importancia de Características (Adaboost)')\n",
    "plt.barh(np.arange(n_features), Adaboost_vars, align='center')\n",
    "plt.yticks(np.arange(n_features), datos.columns[1:])\n",
    "plt.xlabel(\"Importancia\")\n",
    "plt.ylabel(\"Importancia\")\n",
    "plt.ylim(-1, n_features)\n",
    "plt.show()"
   ]
  },
  {
   "cell_type": "code",
   "execution_count": 110,
   "metadata": {},
   "outputs": [
    {
     "data": {
      "image/png": "[encoded data removed]",
      "text/plain": [
       "<Figure size 1000x600 with 1 Axes>"
      ]
     },
     "metadata": {},
     "output_type": "display_data"
    }
   ],
   "source": [
    "import matplotlib.pyplot as plt\n",
    "\n",
    "# Data\n",
    "alcaldias = [\"ALVARO OBREGÓN\", \"AZCAPOTZALCO\", \"BENITO JUÁREZ\", \"COYOACÁN\", \"CUAJIMALPA DE MORELOS\", \n",
    "             \"CUAUHTÉMOC\", \"GUSTAVO A. MADERO\", \"IZTACALCO\", \"IZTAPALAPA\", \"LA MAGDALENA CONTRERAS\", \n",
    "             \"MIGUEL HIDALGO\", \"MILPA ALTA\", \"TLÁHUAC\", \"TLALPAN\", \"VENUSTIANO CARRANZA\", \"XOCHIMILCO\"]\n",
    "\n",
    "areas_estacionamientos_ratio = [2.3364, 1.6567, 0.2230, 1.4037, 1.1944, 0.0801, 2.3571, \n",
    "                                1.1224, 2.1387, 2.3636, 0.3069, 1.3333, 0.7763, 7.7826, \n",
    "                                0.6557, 2.0256]\n",
    "\n",
    "# Create scatter plot\n",
    "plt.figure(figsize=(10, 6))\n",
    "plt.scatter(alcaldias, areas_estacionamientos_ratio, color='blue')\n",
    "\n",
    "# Add labels for alcaldías\n",
    "for i, text in enumerate(alcaldias):\n",
    "    plt.text(i, areas_estacionamientos_ratio[i] + 0.1, text, fontsize=9, ha='center')\n",
    "\n",
    "# Title and labels\n",
    "plt.title('Proporción entre Áreas Verdes y Estacionamientos por Alcaldía  en la CDMX', fontsize=14)\n",
    "plt.xlabel('Alcaldía', fontsize=12)\n",
    "plt.ylabel('Áreas Verdes / Estacionamientos', fontsize=12)\n",
    "plt.xticks('')\n",
    "\n",
    "# Show plot\n",
    "plt.tight_layout()\n",
    "plt.show()"
   ]
  },
  {
   "cell_type": "code",
   "execution_count": null,
   "metadata": {},
   "outputs": [],
   "source": []
  }
 ],
 "metadata": {
  "kernelspec": {
   "display_name": "Python 3",
   "language": "python",
   "name": "python3"
  },
  "language_info": {
   "codemirror_mode": {
    "name": "ipython",
    "version": 3
   },
   "file_extension": ".py",
   "mimetype": "text/x-python",
   "name": "python",
   "nbconvert_exporter": "python",
   "pygments_lexer": "ipython3",
   "version": "3.11.5"
  }
 },
 "nbformat": 4,
 "nbformat_minor": 2
}
